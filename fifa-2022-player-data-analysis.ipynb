{
 "cells": [
  {
   "cell_type": "code",
   "execution_count": 1,
   "id": "f271a559",
   "metadata": {
    "_cell_guid": "b1076dfc-b9ad-4769-8c92-a6c4dae69d19",
    "_uuid": "8f2839f25d086af736a60e9eeb907d3b93b6e0e5",
    "execution": {
     "iopub.execute_input": "2023-08-10T07:09:22.245319Z",
     "iopub.status.busy": "2023-08-10T07:09:22.244812Z",
     "iopub.status.idle": "2023-08-10T07:09:22.266151Z",
     "shell.execute_reply": "2023-08-10T07:09:22.265383Z"
    },
    "papermill": {
     "duration": 0.029253,
     "end_time": "2023-08-10T07:09:22.268467",
     "exception": false,
     "start_time": "2023-08-10T07:09:22.239214",
     "status": "completed"
    },
    "tags": []
   },
   "outputs": [
    {
     "name": "stdout",
     "output_type": "stream",
     "text": [
      "/kaggle/input/fifa-2022-players/fifa22.csv\n"
     ]
    }
   ],
   "source": [
    "# This Python 3 environment comes with many helpful analytics libraries installed\n",
    "# It is defined by the kaggle/python Docker image: https://github.com/kaggle/docker-python\n",
    "# For example, here's several helpful packages to load\n",
    "\n",
    "import numpy as np # linear algebra\n",
    "import pandas as pd # data processing, CSV file I/O (e.g. pd.read_csv)\n",
    "import matplotlib.pyplot as plt\n",
    "\n",
    "# Input data files are available in the read-only \"../input/\" directory\n",
    "# For example, running this (by clicking run or pressing Shift+Enter) will list all files under the input directory\n",
    "\n",
    "import os\n",
    "for dirname, _, filenames in os.walk('/kaggle/input'):\n",
    "    for filename in filenames:\n",
    "        print(os.path.join(dirname, filename))\n",
    "\n",
    "# You can write up to 20GB to the current directory (/kaggle/working/) that gets preserved as output when you create a version using \"Save & Run All\" \n",
    "# You can also write temporary files to /kaggle/temp/, but they won't be saved outside of the current session"
   ]
  },
  {
   "cell_type": "markdown",
   "id": "86c766bf",
   "metadata": {
    "papermill": {
     "duration": 0.003064,
     "end_time": "2023-08-10T07:09:22.275320",
     "exception": false,
     "start_time": "2023-08-10T07:09:22.272256",
     "status": "completed"
    },
    "tags": []
   },
   "source": [
    "#  **Introduction**"
   ]
  },
  {
   "cell_type": "code",
   "execution_count": 2,
   "id": "e9eea32d",
   "metadata": {
    "execution": {
     "iopub.execute_input": "2023-08-10T07:09:22.283801Z",
     "iopub.status.busy": "2023-08-10T07:09:22.283383Z",
     "iopub.status.idle": "2023-08-10T07:09:22.475117Z",
     "shell.execute_reply": "2023-08-10T07:09:22.474011Z"
    },
    "papermill": {
     "duration": 0.199077,
     "end_time": "2023-08-10T07:09:22.477634",
     "exception": false,
     "start_time": "2023-08-10T07:09:22.278557",
     "status": "completed"
    },
    "tags": []
   },
   "outputs": [
    {
     "data": {
      "text/html": [
       "<div>\n",
       "<style scoped>\n",
       "    .dataframe tbody tr th:only-of-type {\n",
       "        vertical-align: middle;\n",
       "    }\n",
       "\n",
       "    .dataframe tbody tr th {\n",
       "        vertical-align: top;\n",
       "    }\n",
       "\n",
       "    .dataframe thead th {\n",
       "        text-align: right;\n",
       "    }\n",
       "</style>\n",
       "<table border=\"1\" class=\"dataframe\">\n",
       "  <thead>\n",
       "    <tr style=\"text-align: right;\">\n",
       "      <th></th>\n",
       "      <th>name</th>\n",
       "      <th>rank</th>\n",
       "      <th>gender</th>\n",
       "      <th>wage_eur</th>\n",
       "      <th>log_wage</th>\n",
       "      <th>position</th>\n",
       "      <th>nationality</th>\n",
       "      <th>club</th>\n",
       "      <th>league</th>\n",
       "      <th>preferred_foot</th>\n",
       "      <th>shooting</th>\n",
       "      <th>passing</th>\n",
       "      <th>dribbling</th>\n",
       "      <th>defending</th>\n",
       "      <th>attacking</th>\n",
       "      <th>skill</th>\n",
       "      <th>movement</th>\n",
       "      <th>power</th>\n",
       "      <th>mentality</th>\n",
       "      <th>goalkeeping</th>\n",
       "    </tr>\n",
       "  </thead>\n",
       "  <tbody>\n",
       "    <tr>\n",
       "      <th>0</th>\n",
       "      <td>Lionel Andrés Messi Cuccittini</td>\n",
       "      <td>93</td>\n",
       "      <td>M</td>\n",
       "      <td>320000.0</td>\n",
       "      <td>12.676076</td>\n",
       "      <td>RW</td>\n",
       "      <td>Argentina</td>\n",
       "      <td>Paris Saint-Germain</td>\n",
       "      <td>French Ligue 1</td>\n",
       "      <td>Left</td>\n",
       "      <td>92.0</td>\n",
       "      <td>91.0</td>\n",
       "      <td>95.0</td>\n",
       "      <td>26.333333</td>\n",
       "      <td>85.8</td>\n",
       "      <td>94.0</td>\n",
       "      <td>90.2</td>\n",
       "      <td>77.8</td>\n",
       "      <td>73.833333</td>\n",
       "      <td>10.8</td>\n",
       "    </tr>\n",
       "    <tr>\n",
       "      <th>1</th>\n",
       "      <td>Lucia Roberta Tough Bronze</td>\n",
       "      <td>92</td>\n",
       "      <td>F</td>\n",
       "      <td>NaN</td>\n",
       "      <td>NaN</td>\n",
       "      <td>NaN</td>\n",
       "      <td>England</td>\n",
       "      <td>NaN</td>\n",
       "      <td>NaN</td>\n",
       "      <td>Right</td>\n",
       "      <td>61.0</td>\n",
       "      <td>70.0</td>\n",
       "      <td>81.0</td>\n",
       "      <td>89.000000</td>\n",
       "      <td>69.0</td>\n",
       "      <td>62.2</td>\n",
       "      <td>84.2</td>\n",
       "      <td>78.8</td>\n",
       "      <td>69.166667</td>\n",
       "      <td>12.6</td>\n",
       "    </tr>\n",
       "    <tr>\n",
       "      <th>2</th>\n",
       "      <td>Vivianne Miedema</td>\n",
       "      <td>92</td>\n",
       "      <td>F</td>\n",
       "      <td>NaN</td>\n",
       "      <td>NaN</td>\n",
       "      <td>NaN</td>\n",
       "      <td>Netherlands</td>\n",
       "      <td>NaN</td>\n",
       "      <td>NaN</td>\n",
       "      <td>Right</td>\n",
       "      <td>93.0</td>\n",
       "      <td>75.0</td>\n",
       "      <td>88.0</td>\n",
       "      <td>25.000000</td>\n",
       "      <td>86.0</td>\n",
       "      <td>79.0</td>\n",
       "      <td>80.6</td>\n",
       "      <td>84.0</td>\n",
       "      <td>70.833333</td>\n",
       "      <td>15.6</td>\n",
       "    </tr>\n",
       "    <tr>\n",
       "      <th>3</th>\n",
       "      <td>Wéndèleine Thérèse Renard</td>\n",
       "      <td>92</td>\n",
       "      <td>F</td>\n",
       "      <td>NaN</td>\n",
       "      <td>NaN</td>\n",
       "      <td>NaN</td>\n",
       "      <td>France</td>\n",
       "      <td>NaN</td>\n",
       "      <td>NaN</td>\n",
       "      <td>Right</td>\n",
       "      <td>70.0</td>\n",
       "      <td>62.0</td>\n",
       "      <td>73.0</td>\n",
       "      <td>91.333333</td>\n",
       "      <td>62.6</td>\n",
       "      <td>67.8</td>\n",
       "      <td>64.0</td>\n",
       "      <td>82.4</td>\n",
       "      <td>73.500000</td>\n",
       "      <td>12.8</td>\n",
       "    </tr>\n",
       "    <tr>\n",
       "      <th>4</th>\n",
       "      <td>Robert Lewandowski</td>\n",
       "      <td>92</td>\n",
       "      <td>M</td>\n",
       "      <td>270000.0</td>\n",
       "      <td>12.506177</td>\n",
       "      <td>ST</td>\n",
       "      <td>Poland</td>\n",
       "      <td>FC Bayern München</td>\n",
       "      <td>German 1. Bundesliga</td>\n",
       "      <td>Right</td>\n",
       "      <td>92.0</td>\n",
       "      <td>79.0</td>\n",
       "      <td>86.0</td>\n",
       "      <td>32.000000</td>\n",
       "      <td>86.0</td>\n",
       "      <td>81.4</td>\n",
       "      <td>81.6</td>\n",
       "      <td>84.8</td>\n",
       "      <td>80.666667</td>\n",
       "      <td>10.2</td>\n",
       "    </tr>\n",
       "  </tbody>\n",
       "</table>\n",
       "</div>"
      ],
      "text/plain": [
       "                             name  rank gender  wage_eur   log_wage position  \\\n",
       "0  Lionel Andrés Messi Cuccittini    93      M  320000.0  12.676076       RW   \n",
       "1      Lucia Roberta Tough Bronze    92      F       NaN        NaN      NaN   \n",
       "2                Vivianne Miedema    92      F       NaN        NaN      NaN   \n",
       "3       Wéndèleine Thérèse Renard    92      F       NaN        NaN      NaN   \n",
       "4              Robert Lewandowski    92      M  270000.0  12.506177       ST   \n",
       "\n",
       "   nationality                 club                league preferred_foot  \\\n",
       "0    Argentina  Paris Saint-Germain        French Ligue 1           Left   \n",
       "1      England                  NaN                   NaN          Right   \n",
       "2  Netherlands                  NaN                   NaN          Right   \n",
       "3       France                  NaN                   NaN          Right   \n",
       "4       Poland    FC Bayern München  German 1. Bundesliga          Right   \n",
       "\n",
       "   shooting  passing  dribbling  defending  attacking  skill  movement  power  \\\n",
       "0      92.0     91.0       95.0  26.333333       85.8   94.0      90.2   77.8   \n",
       "1      61.0     70.0       81.0  89.000000       69.0   62.2      84.2   78.8   \n",
       "2      93.0     75.0       88.0  25.000000       86.0   79.0      80.6   84.0   \n",
       "3      70.0     62.0       73.0  91.333333       62.6   67.8      64.0   82.4   \n",
       "4      92.0     79.0       86.0  32.000000       86.0   81.4      81.6   84.8   \n",
       "\n",
       "   mentality  goalkeeping  \n",
       "0  73.833333         10.8  \n",
       "1  69.166667         12.6  \n",
       "2  70.833333         15.6  \n",
       "3  73.500000         12.8  \n",
       "4  80.666667         10.2  "
      ]
     },
     "execution_count": 2,
     "metadata": {},
     "output_type": "execute_result"
    }
   ],
   "source": [
    "import numpy as np \n",
    "import pandas as pd \n",
    "import matplotlib.pyplot as plt\n",
    "import os\n",
    "\n",
    "os.listdir('/kaggle/input')\n",
    "\n",
    "# Load the .csv data into a DataFrame\n",
    "data_df = pd.read_csv(\"/kaggle/input/fifa-2022-players/fifa22.csv\")\n",
    "# Display the first 5 rows of the dataset\n",
    "data_df.head(5)"
   ]
  },
  {
   "cell_type": "markdown",
   "id": "6f73bac3",
   "metadata": {
    "papermill": {
     "duration": 0.003571,
     "end_time": "2023-08-10T07:09:22.484932",
     "exception": false,
     "start_time": "2023-08-10T07:09:22.481361",
     "status": "completed"
    },
    "tags": []
   },
   "source": [
    "The unit of analysis in this dataset are the football players."
   ]
  },
  {
   "cell_type": "markdown",
   "id": "98e84702",
   "metadata": {
    "papermill": {
     "duration": 0.003391,
     "end_time": "2023-08-10T07:09:22.491959",
     "exception": false,
     "start_time": "2023-08-10T07:09:22.488568",
     "status": "completed"
    },
    "tags": []
   },
   "source": [
    "# **Exploratory Data Analysis (EDA)**"
   ]
  },
  {
   "cell_type": "code",
   "execution_count": 3,
   "id": "7802f454",
   "metadata": {
    "execution": {
     "iopub.execute_input": "2023-08-10T07:09:22.501571Z",
     "iopub.status.busy": "2023-08-10T07:09:22.500472Z",
     "iopub.status.idle": "2023-08-10T07:09:22.505942Z",
     "shell.execute_reply": "2023-08-10T07:09:22.505191Z"
    },
    "papermill": {
     "duration": 0.012433,
     "end_time": "2023-08-10T07:09:22.507998",
     "exception": false,
     "start_time": "2023-08-10T07:09:22.495565",
     "status": "completed"
    },
    "tags": []
   },
   "outputs": [
    {
     "name": "stdout",
     "output_type": "stream",
     "text": [
      "There are 19630 observations and 20 features.\n"
     ]
    }
   ],
   "source": [
    "print(\"There are \" + str(len(data_df)) + \" observations and \" + str(len(data_df.columns)) + \" features.\")"
   ]
  },
  {
   "cell_type": "code",
   "execution_count": null,
   "id": "9926308a",
   "metadata": {
    "papermill": {
     "duration": 0.003619,
     "end_time": "2023-08-10T07:09:22.515656",
     "exception": false,
     "start_time": "2023-08-10T07:09:22.512037",
     "status": "completed"
    },
    "tags": []
   },
   "outputs": [],
   "source": []
  },
  {
   "cell_type": "markdown",
   "id": "357c324e",
   "metadata": {
    "papermill": {
     "duration": 0.003531,
     "end_time": "2023-08-10T07:09:22.522980",
     "exception": false,
     "start_time": "2023-08-10T07:09:22.519449",
     "status": "completed"
    },
    "tags": []
   },
   "source": []
  }
 ],
 "metadata": {
  "kernelspec": {
   "display_name": "Python 3",
   "language": "python",
   "name": "python3"
  },
  "language_info": {
   "codemirror_mode": {
    "name": "ipython",
    "version": 3
   },
   "file_extension": ".py",
   "mimetype": "text/x-python",
   "name": "python",
   "nbconvert_exporter": "python",
   "pygments_lexer": "ipython3",
   "version": "3.10.12"
  },
  "papermill": {
   "default_parameters": {},
   "duration": 12.256738,
   "end_time": "2023-08-10T07:09:23.348941",
   "environment_variables": {},
   "exception": null,
   "input_path": "__notebook__.ipynb",
   "output_path": "__notebook__.ipynb",
   "parameters": {},
   "start_time": "2023-08-10T07:09:11.092203",
   "version": "2.4.0"
  }
 },
 "nbformat": 4,
 "nbformat_minor": 5
}

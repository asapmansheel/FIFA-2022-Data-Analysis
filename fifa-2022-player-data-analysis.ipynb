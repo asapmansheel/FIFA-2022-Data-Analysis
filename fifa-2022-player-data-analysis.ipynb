{
 "cells": [
  {
   "cell_type": "code",
   "execution_count": 1,
   "id": "6e86a158",
   "metadata": {
    "_cell_guid": "b1076dfc-b9ad-4769-8c92-a6c4dae69d19",
    "_uuid": "8f2839f25d086af736a60e9eeb907d3b93b6e0e5",
    "execution": {
     "iopub.execute_input": "2023-08-10T07:41:39.782767Z",
     "iopub.status.busy": "2023-08-10T07:41:39.782052Z",
     "iopub.status.idle": "2023-08-10T07:41:39.800455Z",
     "shell.execute_reply": "2023-08-10T07:41:39.799507Z"
    },
    "papermill": {
     "duration": 0.028555,
     "end_time": "2023-08-10T07:41:39.802515",
     "exception": false,
     "start_time": "2023-08-10T07:41:39.773960",
     "status": "completed"
    },
    "tags": []
   },
   "outputs": [
    {
     "name": "stdout",
     "output_type": "stream",
     "text": [
      "/kaggle/input/fifa-2022-players/fifa22.csv\n"
     ]
    }
   ],
   "source": [
    "# This Python 3 environment comes with many helpful analytics libraries installed\n",
    "# It is defined by the kaggle/python Docker image: https://github.com/kaggle/docker-python\n",
    "# For example, here's several helpful packages to load\n",
    "\n",
    "import numpy as np # linear algebra\n",
    "import pandas as pd # data processing, CSV file I/O (e.g. pd.read_csv)\n",
    "import matplotlib.pyplot as plt\n",
    "\n",
    "# Input data files are available in the read-only \"../input/\" directory\n",
    "# For example, running this (by clicking run or pressing Shift+Enter) will list all files under the input directory\n",
    "\n",
    "import os\n",
    "for dirname, _, filenames in os.walk('/kaggle/input'):\n",
    "    for filename in filenames:\n",
    "        print(os.path.join(dirname, filename))\n",
    "\n",
    "# You can write up to 20GB to the current directory (/kaggle/working/) that gets preserved as output when you create a version using \"Save & Run All\" \n",
    "# You can also write temporary files to /kaggle/temp/, but they won't be saved outside of the current session"
   ]
  },
  {
   "cell_type": "markdown",
   "id": "d3772b71",
   "metadata": {
    "papermill": {
     "duration": 0.005121,
     "end_time": "2023-08-10T07:41:39.812981",
     "exception": false,
     "start_time": "2023-08-10T07:41:39.807860",
     "status": "completed"
    },
    "tags": []
   },
   "source": [
    "#  **Introduction**"
   ]
  },
  {
   "cell_type": "code",
   "execution_count": 2,
   "id": "994688e3",
   "metadata": {
    "execution": {
     "iopub.execute_input": "2023-08-10T07:41:39.828299Z",
     "iopub.status.busy": "2023-08-10T07:41:39.827812Z",
     "iopub.status.idle": "2023-08-10T07:41:40.011068Z",
     "shell.execute_reply": "2023-08-10T07:41:40.009805Z"
    },
    "papermill": {
     "duration": 0.193425,
     "end_time": "2023-08-10T07:41:40.013630",
     "exception": false,
     "start_time": "2023-08-10T07:41:39.820205",
     "status": "completed"
    },
    "tags": []
   },
   "outputs": [
    {
     "data": {
      "text/html": [
       "<div>\n",
       "<style scoped>\n",
       "    .dataframe tbody tr th:only-of-type {\n",
       "        vertical-align: middle;\n",
       "    }\n",
       "\n",
       "    .dataframe tbody tr th {\n",
       "        vertical-align: top;\n",
       "    }\n",
       "\n",
       "    .dataframe thead th {\n",
       "        text-align: right;\n",
       "    }\n",
       "</style>\n",
       "<table border=\"1\" class=\"dataframe\">\n",
       "  <thead>\n",
       "    <tr style=\"text-align: right;\">\n",
       "      <th></th>\n",
       "      <th>name</th>\n",
       "      <th>rank</th>\n",
       "      <th>gender</th>\n",
       "      <th>wage_eur</th>\n",
       "      <th>log_wage</th>\n",
       "      <th>position</th>\n",
       "      <th>nationality</th>\n",
       "      <th>club</th>\n",
       "      <th>league</th>\n",
       "      <th>preferred_foot</th>\n",
       "      <th>shooting</th>\n",
       "      <th>passing</th>\n",
       "      <th>dribbling</th>\n",
       "      <th>defending</th>\n",
       "      <th>attacking</th>\n",
       "      <th>skill</th>\n",
       "      <th>movement</th>\n",
       "      <th>power</th>\n",
       "      <th>mentality</th>\n",
       "      <th>goalkeeping</th>\n",
       "    </tr>\n",
       "  </thead>\n",
       "  <tbody>\n",
       "    <tr>\n",
       "      <th>0</th>\n",
       "      <td>Lionel Andrés Messi Cuccittini</td>\n",
       "      <td>93</td>\n",
       "      <td>M</td>\n",
       "      <td>320000.0</td>\n",
       "      <td>12.676076</td>\n",
       "      <td>RW</td>\n",
       "      <td>Argentina</td>\n",
       "      <td>Paris Saint-Germain</td>\n",
       "      <td>French Ligue 1</td>\n",
       "      <td>Left</td>\n",
       "      <td>92.0</td>\n",
       "      <td>91.0</td>\n",
       "      <td>95.0</td>\n",
       "      <td>26.333333</td>\n",
       "      <td>85.8</td>\n",
       "      <td>94.0</td>\n",
       "      <td>90.2</td>\n",
       "      <td>77.8</td>\n",
       "      <td>73.833333</td>\n",
       "      <td>10.8</td>\n",
       "    </tr>\n",
       "    <tr>\n",
       "      <th>1</th>\n",
       "      <td>Lucia Roberta Tough Bronze</td>\n",
       "      <td>92</td>\n",
       "      <td>F</td>\n",
       "      <td>NaN</td>\n",
       "      <td>NaN</td>\n",
       "      <td>NaN</td>\n",
       "      <td>England</td>\n",
       "      <td>NaN</td>\n",
       "      <td>NaN</td>\n",
       "      <td>Right</td>\n",
       "      <td>61.0</td>\n",
       "      <td>70.0</td>\n",
       "      <td>81.0</td>\n",
       "      <td>89.000000</td>\n",
       "      <td>69.0</td>\n",
       "      <td>62.2</td>\n",
       "      <td>84.2</td>\n",
       "      <td>78.8</td>\n",
       "      <td>69.166667</td>\n",
       "      <td>12.6</td>\n",
       "    </tr>\n",
       "    <tr>\n",
       "      <th>2</th>\n",
       "      <td>Vivianne Miedema</td>\n",
       "      <td>92</td>\n",
       "      <td>F</td>\n",
       "      <td>NaN</td>\n",
       "      <td>NaN</td>\n",
       "      <td>NaN</td>\n",
       "      <td>Netherlands</td>\n",
       "      <td>NaN</td>\n",
       "      <td>NaN</td>\n",
       "      <td>Right</td>\n",
       "      <td>93.0</td>\n",
       "      <td>75.0</td>\n",
       "      <td>88.0</td>\n",
       "      <td>25.000000</td>\n",
       "      <td>86.0</td>\n",
       "      <td>79.0</td>\n",
       "      <td>80.6</td>\n",
       "      <td>84.0</td>\n",
       "      <td>70.833333</td>\n",
       "      <td>15.6</td>\n",
       "    </tr>\n",
       "    <tr>\n",
       "      <th>3</th>\n",
       "      <td>Wéndèleine Thérèse Renard</td>\n",
       "      <td>92</td>\n",
       "      <td>F</td>\n",
       "      <td>NaN</td>\n",
       "      <td>NaN</td>\n",
       "      <td>NaN</td>\n",
       "      <td>France</td>\n",
       "      <td>NaN</td>\n",
       "      <td>NaN</td>\n",
       "      <td>Right</td>\n",
       "      <td>70.0</td>\n",
       "      <td>62.0</td>\n",
       "      <td>73.0</td>\n",
       "      <td>91.333333</td>\n",
       "      <td>62.6</td>\n",
       "      <td>67.8</td>\n",
       "      <td>64.0</td>\n",
       "      <td>82.4</td>\n",
       "      <td>73.500000</td>\n",
       "      <td>12.8</td>\n",
       "    </tr>\n",
       "    <tr>\n",
       "      <th>4</th>\n",
       "      <td>Robert Lewandowski</td>\n",
       "      <td>92</td>\n",
       "      <td>M</td>\n",
       "      <td>270000.0</td>\n",
       "      <td>12.506177</td>\n",
       "      <td>ST</td>\n",
       "      <td>Poland</td>\n",
       "      <td>FC Bayern München</td>\n",
       "      <td>German 1. Bundesliga</td>\n",
       "      <td>Right</td>\n",
       "      <td>92.0</td>\n",
       "      <td>79.0</td>\n",
       "      <td>86.0</td>\n",
       "      <td>32.000000</td>\n",
       "      <td>86.0</td>\n",
       "      <td>81.4</td>\n",
       "      <td>81.6</td>\n",
       "      <td>84.8</td>\n",
       "      <td>80.666667</td>\n",
       "      <td>10.2</td>\n",
       "    </tr>\n",
       "  </tbody>\n",
       "</table>\n",
       "</div>"
      ],
      "text/plain": [
       "                             name  rank gender  wage_eur   log_wage position  \\\n",
       "0  Lionel Andrés Messi Cuccittini    93      M  320000.0  12.676076       RW   \n",
       "1      Lucia Roberta Tough Bronze    92      F       NaN        NaN      NaN   \n",
       "2                Vivianne Miedema    92      F       NaN        NaN      NaN   \n",
       "3       Wéndèleine Thérèse Renard    92      F       NaN        NaN      NaN   \n",
       "4              Robert Lewandowski    92      M  270000.0  12.506177       ST   \n",
       "\n",
       "   nationality                 club                league preferred_foot  \\\n",
       "0    Argentina  Paris Saint-Germain        French Ligue 1           Left   \n",
       "1      England                  NaN                   NaN          Right   \n",
       "2  Netherlands                  NaN                   NaN          Right   \n",
       "3       France                  NaN                   NaN          Right   \n",
       "4       Poland    FC Bayern München  German 1. Bundesliga          Right   \n",
       "\n",
       "   shooting  passing  dribbling  defending  attacking  skill  movement  power  \\\n",
       "0      92.0     91.0       95.0  26.333333       85.8   94.0      90.2   77.8   \n",
       "1      61.0     70.0       81.0  89.000000       69.0   62.2      84.2   78.8   \n",
       "2      93.0     75.0       88.0  25.000000       86.0   79.0      80.6   84.0   \n",
       "3      70.0     62.0       73.0  91.333333       62.6   67.8      64.0   82.4   \n",
       "4      92.0     79.0       86.0  32.000000       86.0   81.4      81.6   84.8   \n",
       "\n",
       "   mentality  goalkeeping  \n",
       "0  73.833333         10.8  \n",
       "1  69.166667         12.6  \n",
       "2  70.833333         15.6  \n",
       "3  73.500000         12.8  \n",
       "4  80.666667         10.2  "
      ]
     },
     "execution_count": 2,
     "metadata": {},
     "output_type": "execute_result"
    }
   ],
   "source": [
    "import numpy as np \n",
    "import pandas as pd \n",
    "import matplotlib.pyplot as plt\n",
    "import os\n",
    "\n",
    "os.listdir('/kaggle/input')\n",
    "\n",
    "# Load the .csv data into a DataFrame\n",
    "data_df = pd.read_csv(\"/kaggle/input/fifa-2022-players/fifa22.csv\")\n",
    "# Display the first 5 rows of the dataset\n",
    "data_df.head(5)"
   ]
  },
  {
   "cell_type": "markdown",
   "id": "4ff05f27",
   "metadata": {
    "papermill": {
     "duration": 0.005374,
     "end_time": "2023-08-10T07:41:40.024880",
     "exception": false,
     "start_time": "2023-08-10T07:41:40.019506",
     "status": "completed"
    },
    "tags": []
   },
   "source": [
    "The unit of analysis in this dataset are the football players."
   ]
  },
  {
   "cell_type": "markdown",
   "id": "e6fd9058",
   "metadata": {
    "papermill": {
     "duration": 0.009636,
     "end_time": "2023-08-10T07:41:40.040211",
     "exception": false,
     "start_time": "2023-08-10T07:41:40.030575",
     "status": "completed"
    },
    "tags": []
   },
   "source": [
    "# **Exploratory Data Analysis (EDA)**"
   ]
  },
  {
   "cell_type": "code",
   "execution_count": 3,
   "id": "cbbcfb8e",
   "metadata": {
    "execution": {
     "iopub.execute_input": "2023-08-10T07:41:40.054338Z",
     "iopub.status.busy": "2023-08-10T07:41:40.053449Z",
     "iopub.status.idle": "2023-08-10T07:41:40.060427Z",
     "shell.execute_reply": "2023-08-10T07:41:40.059208Z"
    },
    "papermill": {
     "duration": 0.016254,
     "end_time": "2023-08-10T07:41:40.062781",
     "exception": false,
     "start_time": "2023-08-10T07:41:40.046527",
     "status": "completed"
    },
    "tags": []
   },
   "outputs": [
    {
     "name": "stdout",
     "output_type": "stream",
     "text": [
      "There are 19630 observations and 20 features.\n"
     ]
    }
   ],
   "source": [
    "print(\"There are \" + str(len(data_df)) + \" observations and \" + str(len(data_df.columns)) + \" features.\")"
   ]
  },
  {
   "cell_type": "code",
   "execution_count": 4,
   "id": "702149f0",
   "metadata": {
    "execution": {
     "iopub.execute_input": "2023-08-10T07:41:40.079712Z",
     "iopub.status.busy": "2023-08-10T07:41:40.078920Z",
     "iopub.status.idle": "2023-08-10T07:41:40.093340Z",
     "shell.execute_reply": "2023-08-10T07:41:40.091735Z"
    },
    "papermill": {
     "duration": 0.024894,
     "end_time": "2023-08-10T07:41:40.095761",
     "exception": false,
     "start_time": "2023-08-10T07:41:40.070867",
     "status": "completed"
    },
    "tags": []
   },
   "outputs": [
    {
     "name": "stdout",
     "output_type": "stream",
     "text": [
      "Number of male players: 19239\n",
      "Number of female players: 391\n"
     ]
    }
   ],
   "source": [
    "gender = data_df[\"gender\"].value_counts()\n",
    "male_players = gender[\"M\"]\n",
    "female_players = gender[\"F\"]\n",
    "\n",
    "print(\"Number of male players:\", male_players)\n",
    "print(\"Number of female players:\", female_players)"
   ]
  },
  {
   "cell_type": "code",
   "execution_count": 5,
   "id": "af92b27e",
   "metadata": {
    "execution": {
     "iopub.execute_input": "2023-08-10T07:41:40.111520Z",
     "iopub.status.busy": "2023-08-10T07:41:40.110934Z",
     "iopub.status.idle": "2023-08-10T07:41:40.127677Z",
     "shell.execute_reply": "2023-08-10T07:41:40.126513Z"
    },
    "papermill": {
     "duration": 0.028167,
     "end_time": "2023-08-10T07:41:40.129825",
     "exception": false,
     "start_time": "2023-08-10T07:41:40.101658",
     "status": "completed"
    },
    "tags": []
   },
   "outputs": [
    {
     "name": "stdout",
     "output_type": "stream",
     "text": [
      "Shape of final dataset: (17450, 20)\n"
     ]
    }
   ],
   "source": [
    "# Remove rows with missing values in the \"passing\" column\n",
    "data_df = data_df.dropna(subset = [\"passing\"])\n",
    "print(\"Shape of final dataset:\", data_df.shape)"
   ]
  },
  {
   "cell_type": "markdown",
   "id": "297c60a9",
   "metadata": {
    "papermill": {
     "duration": 0.005596,
     "end_time": "2023-08-10T07:41:40.141278",
     "exception": false,
     "start_time": "2023-08-10T07:41:40.135682",
     "status": "completed"
    },
    "tags": []
   },
   "source": [
    "# **Data Analysis and Interpretation**"
   ]
  },
  {
   "cell_type": "code",
   "execution_count": 6,
   "id": "b91f559a",
   "metadata": {
    "execution": {
     "iopub.execute_input": "2023-08-10T07:41:40.154396Z",
     "iopub.status.busy": "2023-08-10T07:41:40.154016Z",
     "iopub.status.idle": "2023-08-10T07:41:42.732508Z",
     "shell.execute_reply": "2023-08-10T07:41:42.731247Z"
    },
    "papermill": {
     "duration": 2.588573,
     "end_time": "2023-08-10T07:41:42.735649",
     "exception": false,
     "start_time": "2023-08-10T07:41:40.147076",
     "status": "completed"
    },
    "tags": []
   },
   "outputs": [
    {
     "name": "stderr",
     "output_type": "stream",
     "text": [
      "/opt/conda/lib/python3.10/site-packages/scipy/__init__.py:146: UserWarning: A NumPy version >=1.16.5 and <1.23.0 is required for this version of SciPy (detected version 1.23.5\n",
      "  warnings.warn(f\"A NumPy version >={np_minversion} and <{np_maxversion}\"\n"
     ]
    },
    {
     "name": "stdout",
     "output_type": "stream",
     "text": [
      "                            OLS Regression Results                            \n",
      "==============================================================================\n",
      "Dep. Variable:                   rank   R-squared:                       0.705\n",
      "Model:                            OLS   Adj. R-squared:                  0.705\n",
      "Method:                 Least Squares   F-statistic:                 1.044e+04\n",
      "Date:                Thu, 10 Aug 2023   Prob (F-statistic):               0.00\n",
      "Time:                        07:41:42   Log-Likelihood:                -47856.\n",
      "No. Observations:               17450   AIC:                         9.572e+04\n",
      "Df Residuals:                   17445   BIC:                         9.576e+04\n",
      "Df Model:                           4                                         \n",
      "Covariance Type:            nonrobust                                         \n",
      "==============================================================================\n",
      "                 coef    std err          t      P>|t|      [0.025      0.975]\n",
      "------------------------------------------------------------------------------\n",
      "const         25.3278      0.203    124.785      0.000      24.930      25.726\n",
      "passing       -0.0247      0.010     -2.425      0.015      -0.045      -0.005\n",
      "attacking      0.6109      0.006     94.005      0.000       0.598       0.624\n",
      "defending      0.1719      0.002     84.413      0.000       0.168       0.176\n",
      "skill          0.0066      0.009      0.730      0.465      -0.011       0.024\n",
      "==============================================================================\n",
      "Omnibus:                      171.799   Durbin-Watson:                   1.342\n",
      "Prob(Omnibus):                  0.000   Jarque-Bera (JB):              178.339\n",
      "Skew:                           0.234   Prob(JB):                     1.88e-39\n",
      "Kurtosis:                       3.163   Cond. No.                         790.\n",
      "==============================================================================\n",
      "\n",
      "Notes:\n",
      "[1] Standard Errors assume that the covariance matrix of the errors is correctly specified.\n"
     ]
    }
   ],
   "source": [
    "import statsmodels.api as smf\n",
    "\n",
    "# Estimate a multiple regression evaluating the effect on rank of four features: passing, attacking, defending, and skill\n",
    "x_axis = data_df[[\"passing\", \"attacking\", \"defending\", \"skill\"]]\n",
    "y_axis = data_df[\"rank\"]\n",
    "x_axis = smf.add_constant(x_axis)\n",
    "model = smf.OLS(y_axis, x_axis).fit()\n",
    "\n",
    "print(model.summary())"
   ]
  },
  {
   "cell_type": "code",
   "execution_count": 7,
   "id": "61004628",
   "metadata": {
    "execution": {
     "iopub.execute_input": "2023-08-10T07:41:42.763021Z",
     "iopub.status.busy": "2023-08-10T07:41:42.762516Z",
     "iopub.status.idle": "2023-08-10T07:41:42.769103Z",
     "shell.execute_reply": "2023-08-10T07:41:42.768058Z"
    },
    "papermill": {
     "duration": 0.021142,
     "end_time": "2023-08-10T07:41:42.772035",
     "exception": false,
     "start_time": "2023-08-10T07:41:42.750893",
     "status": "completed"
    },
    "tags": []
   },
   "outputs": [
    {
     "name": "stdout",
     "output_type": "stream",
     "text": [
      "R-squared value: 0.7052478740013822\n"
     ]
    }
   ],
   "source": [
    "r_squared = model.rsquared\n",
    "print(\"R-squared value:\", r_squared)"
   ]
  },
  {
   "cell_type": "markdown",
   "id": "e5380d7f",
   "metadata": {
    "papermill": {
     "duration": 0.009639,
     "end_time": "2023-08-10T07:41:42.791675",
     "exception": false,
     "start_time": "2023-08-10T07:41:42.782036",
     "status": "completed"
    },
    "tags": []
   },
   "source": [
    "We can use the R-squared value to determine how much of the variation in “rank” is explained by our features, “passing,” “attacking,” “defending,” and “skill.” Our R-squared value is 0.705, which means that approximately 70.5% of the variation in rank is explained by our features."
   ]
  },
  {
   "cell_type": "markdown",
   "id": "d8d93c91",
   "metadata": {
    "papermill": {
     "duration": 0.009485,
     "end_time": "2023-08-10T07:41:42.811018",
     "exception": false,
     "start_time": "2023-08-10T07:41:42.801533",
     "status": "completed"
    },
    "tags": []
   },
   "source": [
    "We can check if any of our features are significant at the 1% level by checking their p-values. The independent variables “attacking” and “defending” have p-values of 0.00. This means that they are below 0.01 and are therefore statistically significant."
   ]
  },
  {
   "cell_type": "markdown",
   "id": "fec1b835",
   "metadata": {
    "papermill": {
     "duration": 0.009608,
     "end_time": "2023-08-10T07:41:42.830838",
     "exception": false,
     "start_time": "2023-08-10T07:41:42.821230",
     "status": "completed"
    },
    "tags": []
   },
   "source": [
    "The coeﬀicient in the regression output tells us the estimated effect of a one-unit increase in the “skill” variable on the rank, while holding the other independent variables constant. The coeﬀicient for “skill” is 0.0066, which means that a one-unit increase in “skill” will increase 0.0066 units in rank. Therefore, if all other variables are held constant, a football player with one more unit of skill is expected to have a 0.0066 higher rank."
   ]
  },
  {
   "cell_type": "markdown",
   "id": "73e20569",
   "metadata": {
    "papermill": {
     "duration": 0.005944,
     "end_time": "2023-08-10T07:41:42.846398",
     "exception": false,
     "start_time": "2023-08-10T07:41:42.840454",
     "status": "completed"
    },
    "tags": []
   },
   "source": [
    "# **Model Evaluation and Testing**"
   ]
  },
  {
   "cell_type": "code",
   "execution_count": 8,
   "id": "f5b10d6c",
   "metadata": {
    "execution": {
     "iopub.execute_input": "2023-08-10T07:41:42.860387Z",
     "iopub.status.busy": "2023-08-10T07:41:42.860002Z",
     "iopub.status.idle": "2023-08-10T07:41:42.871985Z",
     "shell.execute_reply": "2023-08-10T07:41:42.870717Z"
    },
    "papermill": {
     "duration": 0.021367,
     "end_time": "2023-08-10T07:41:42.873966",
     "exception": false,
     "start_time": "2023-08-10T07:41:42.852599",
     "status": "completed"
    },
    "tags": []
   },
   "outputs": [
    {
     "name": "stdout",
     "output_type": "stream",
     "text": [
      "   passing  attacking  defending  skill\n",
      "0     91.0       85.8  26.333333   94.0\n",
      "1     70.0       69.0  89.000000   62.2\n",
      "2     75.0       86.0  25.000000   79.0\n",
      "3     62.0       62.6  91.333333   67.8\n",
      "4     79.0       86.0  32.000000   81.4\n",
      "\n",
      "   rank\n",
      "0    93\n",
      "1    92\n",
      "2    92\n",
      "3    92\n",
      "4    92\n"
     ]
    }
   ],
   "source": [
    "# Create an X dataframe with just four features: passing, attacking, defending, and skill\n",
    "X = data_df[[\"passing\", \"attacking\", \"defending\", \"skill\"]]\n",
    "# Create a Y dataframe with just the “rank” variable\n",
    "Y = data_df[[\"rank\"]]\n",
    "\n",
    "# Display the first five rows of each\n",
    "print(X.head())\n",
    "print()\n",
    "print(Y.head())"
   ]
  },
  {
   "cell_type": "code",
   "execution_count": 9,
   "id": "f6fa7829",
   "metadata": {
    "execution": {
     "iopub.execute_input": "2023-08-10T07:41:42.888286Z",
     "iopub.status.busy": "2023-08-10T07:41:42.887859Z",
     "iopub.status.idle": "2023-08-10T07:41:43.103052Z",
     "shell.execute_reply": "2023-08-10T07:41:43.101936Z"
    },
    "papermill": {
     "duration": 0.225105,
     "end_time": "2023-08-10T07:41:43.105239",
     "exception": false,
     "start_time": "2023-08-10T07:41:42.880134",
     "status": "completed"
    },
    "tags": []
   },
   "outputs": [
    {
     "name": "stdout",
     "output_type": "stream",
     "text": [
      "       passing  attacking  defending  skill\n",
      "17226     52.0       48.0  59.333333   53.2\n",
      "13548     48.0       55.0  12.666667   54.0\n",
      "17874     59.0       46.2  58.000000   57.8\n",
      "19599     47.0       40.6  46.666667   40.0\n",
      "15629     49.0       51.8  25.666667   49.6\n"
     ]
    }
   ],
   "source": [
    "from sklearn.model_selection import train_test_split\n",
    "\n",
    "# Split the data into training and testing sets using train_test_split function\n",
    "# X and Y are the input features and target variable respectively\n",
    "# test_size specifies the proportion of data to allocate for testing (25% in this case)\n",
    "# random_state is used to ensure reproducibility of the split\n",
    "X_train, X_test, Y_train, Y_test = train_test_split(X, Y, test_size = 0.25, random_state = 123) \n",
    "\n",
    "# Print the first 5 rows of the X_train dataset\n",
    "print(X_train.head(5))"
   ]
  },
  {
   "cell_type": "code",
   "execution_count": 10,
   "id": "b0796319",
   "metadata": {
    "execution": {
     "iopub.execute_input": "2023-08-10T07:41:43.119575Z",
     "iopub.status.busy": "2023-08-10T07:41:43.118955Z",
     "iopub.status.idle": "2023-08-10T07:41:43.242853Z",
     "shell.execute_reply": "2023-08-10T07:41:43.241703Z"
    },
    "papermill": {
     "duration": 0.133546,
     "end_time": "2023-08-10T07:41:43.245017",
     "exception": false,
     "start_time": "2023-08-10T07:41:43.111471",
     "status": "completed"
    },
    "tags": []
   },
   "outputs": [
    {
     "name": "stdout",
     "output_type": "stream",
     "text": [
      "Intercept: [25.16773306]\n",
      "Coefficients: [[-0.02444506  0.61230756  0.17314968  0.00612364]]\n"
     ]
    }
   ],
   "source": [
    "from sklearn.linear_model import LinearRegression \n",
    "\n",
    "lr_model = LinearRegression()\n",
    "# Fit the linear regression model using the training data\n",
    "lr_model.fit(X_train, Y_train)\n",
    "\n",
    "# Display the intercept and coefficients of trained model\n",
    "print(\"Intercept:\", lr_model.intercept_)\n",
    "print(\"Coefficients:\", lr_model.coef_)"
   ]
  },
  {
   "cell_type": "code",
   "execution_count": 11,
   "id": "783575b1",
   "metadata": {
    "execution": {
     "iopub.execute_input": "2023-08-10T07:41:43.259133Z",
     "iopub.status.busy": "2023-08-10T07:41:43.258596Z",
     "iopub.status.idle": "2023-08-10T07:41:43.267539Z",
     "shell.execute_reply": "2023-08-10T07:41:43.266338Z"
    },
    "papermill": {
     "duration": 0.019252,
     "end_time": "2023-08-10T07:41:43.270555",
     "exception": false,
     "start_time": "2023-08-10T07:41:43.251303",
     "status": "completed"
    },
    "tags": []
   },
   "outputs": [
    {
     "name": "stdout",
     "output_type": "stream",
     "text": [
      "Predicted values: [[64.57617047]\n",
      " [72.78035994]\n",
      " [70.46341746]]\n"
     ]
    }
   ],
   "source": [
    "# Use the trained linear regression model (lr_model) to make predictions on the testing data (X_test)\n",
    "Y_pred = lr_model.predict(X_test)\n",
    "# Print the predicted values for the first 3 instances in the testing data\n",
    "print(\"Predicted values:\", Y_pred[:3])"
   ]
  },
  {
   "cell_type": "code",
   "execution_count": 12,
   "id": "1269dac4",
   "metadata": {
    "execution": {
     "iopub.execute_input": "2023-08-10T07:41:43.293380Z",
     "iopub.status.busy": "2023-08-10T07:41:43.292845Z",
     "iopub.status.idle": "2023-08-10T07:41:43.590906Z",
     "shell.execute_reply": "2023-08-10T07:41:43.589801Z"
    },
    "papermill": {
     "duration": 0.313034,
     "end_time": "2023-08-10T07:41:43.593839",
     "exception": false,
     "start_time": "2023-08-10T07:41:43.280805",
     "status": "completed"
    },
    "tags": []
   },
   "outputs": [
    {
     "data": {
      "image/png": "[encoded data removed]",
      "text/plain": [
       "<Figure size 640x480 with 1 Axes>"
      ]
     },
     "metadata": {},
     "output_type": "display_data"
    }
   ],
   "source": [
    "plt.scatter(Y_test, Y_pred, s = 50, edgecolors = \"black\")\n",
    "plt.xlabel(\"Actual Value of Y Test Data\")\n",
    "plt.ylabel(\"Predicted Y values of X Test Data\")\n",
    "plt.grid()\n",
    "plt.show()"
   ]
  },
  {
   "cell_type": "code",
   "execution_count": 13,
   "id": "a16ba342",
   "metadata": {
    "execution": {
     "iopub.execute_input": "2023-08-10T07:41:43.612143Z",
     "iopub.status.busy": "2023-08-10T07:41:43.611068Z",
     "iopub.status.idle": "2023-08-10T07:41:43.620027Z",
     "shell.execute_reply": "2023-08-10T07:41:43.619142Z"
    },
    "papermill": {
     "duration": 0.020264,
     "end_time": "2023-08-10T07:41:43.621990",
     "exception": false,
     "start_time": "2023-08-10T07:41:43.601726",
     "status": "completed"
    },
    "tags": []
   },
   "outputs": [
    {
     "name": "stdout",
     "output_type": "stream",
     "text": [
      "RMSE: 3.7445626399871976\n"
     ]
    }
   ],
   "source": [
    "from sklearn.metrics import mean_squared_error\n",
    "\n",
    "# Display the Root Mean Squared Error (RMSE) for this model\n",
    "rmse = np.sqrt(mean_squared_error(Y_test, Y_pred))\n",
    "print('RMSE:', rmse)"
   ]
  },
  {
   "cell_type": "markdown",
   "id": "40ab2f28",
   "metadata": {
    "papermill": {
     "duration": 0.007563,
     "end_time": "2023-08-10T07:41:43.637379",
     "exception": false,
     "start_time": "2023-08-10T07:41:43.629816",
     "status": "completed"
    },
    "tags": []
   },
   "source": [
    "Overall, the scaterplot of predicted values against actual values shows fairly accurate predictions due to the fairly tight cluster of points around the line of best fit. However, there are still some points that are further away from the line of best fit, which means that the scatterplot is less accurate for those observations. In addition, our overall model only includes four features. Therefore, we may be lacking other variables that could better explain variation in rank."
   ]
  },
  {
   "cell_type": "markdown",
   "id": "fcbce990",
   "metadata": {
    "papermill": {
     "duration": 0.007361,
     "end_time": "2023-08-10T07:41:43.652308",
     "exception": false,
     "start_time": "2023-08-10T07:41:43.644947",
     "status": "completed"
    },
    "tags": []
   },
   "source": []
  },
  {
   "cell_type": "markdown",
   "id": "edcb3205",
   "metadata": {
    "papermill": {
     "duration": 0.007349,
     "end_time": "2023-08-10T07:41:43.667365",
     "exception": false,
     "start_time": "2023-08-10T07:41:43.660016",
     "status": "completed"
    },
    "tags": []
   },
   "source": []
  }
 ],
 "metadata": {
  "kernelspec": {
   "display_name": "Python 3",
   "language": "python",
   "name": "python3"
  },
  "language_info": {
   "codemirror_mode": {
    "name": "ipython",
    "version": 3
   },
   "file_extension": ".py",
   "mimetype": "text/x-python",
   "name": "python",
   "nbconvert_exporter": "python",
   "pygments_lexer": "ipython3",
   "version": "3.10.12"
  },
  "papermill": {
   "default_parameters": {},
   "duration": 13.763235,
   "end_time": "2023-08-10T07:41:44.595683",
   "environment_variables": {},
   "exception": null,
   "input_path": "__notebook__.ipynb",
   "output_path": "__notebook__.ipynb",
   "parameters": {},
   "start_time": "2023-08-10T07:41:30.832448",
   "version": "2.4.0"
  }
 },
 "nbformat": 4,
 "nbformat_minor": 5
}

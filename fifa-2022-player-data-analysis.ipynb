{
 "cells": [
  {
   "cell_type": "code",
   "execution_count": 1,
   "id": "10ba8122",
   "metadata": {
    "_cell_guid": "b1076dfc-b9ad-4769-8c92-a6c4dae69d19",
    "_uuid": "8f2839f25d086af736a60e9eeb907d3b93b6e0e5",
    "execution": {
     "iopub.execute_input": "2023-08-10T12:10:20.230759Z",
     "iopub.status.busy": "2023-08-10T12:10:20.230146Z",
     "iopub.status.idle": "2023-08-10T12:10:20.253044Z",
     "shell.execute_reply": "2023-08-10T12:10:20.251431Z"
    },
    "papermill": {
     "duration": 0.043261,
     "end_time": "2023-08-10T12:10:20.255839",
     "exception": false,
     "start_time": "2023-08-10T12:10:20.212578",
     "status": "completed"
    },
    "tags": []
   },
   "outputs": [
    {
     "name": "stdout",
     "output_type": "stream",
     "text": [
      "/kaggle/input/fifa-2022-players/fifa22.csv\n"
     ]
    }
   ],
   "source": [
    "# This Python 3 environment comes with many helpful analytics libraries installed\n",
    "# It is defined by the kaggle/python Docker image: https://github.com/kaggle/docker-python\n",
    "# For example, here's several helpful packages to load\n",
    "\n",
    "import numpy as np # linear algebra\n",
    "import pandas as pd # data processing, CSV file I/O (e.g. pd.read_csv)\n",
    "import matplotlib.pyplot as plt\n",
    "\n",
    "# Input data files are available in the read-only \"../input/\" directory\n",
    "# For example, running this (by clicking run or pressing Shift+Enter) will list all files under the input directory\n",
    "\n",
    "import os\n",
    "for dirname, _, filenames in os.walk('/kaggle/input'):\n",
    "    for filename in filenames:\n",
    "        print(os.path.join(dirname, filename))\n",
    "\n",
    "# You can write up to 20GB to the current directory (/kaggle/working/) that gets preserved as output when you create a version using \"Save & Run All\" \n",
    "# You can also write temporary files to /kaggle/temp/, but they won't be saved outside of the current session"
   ]
  },
  {
   "cell_type": "markdown",
   "id": "2cffb69e",
   "metadata": {
    "papermill": {
     "duration": 0.014305,
     "end_time": "2023-08-10T12:10:20.285028",
     "exception": false,
     "start_time": "2023-08-10T12:10:20.270723",
     "status": "completed"
    },
    "tags": []
   },
   "source": [
    "#  **Introduction**"
   ]
  },
  {
   "cell_type": "code",
   "execution_count": 2,
   "id": "aad19b8e",
   "metadata": {
    "execution": {
     "iopub.execute_input": "2023-08-10T12:10:20.322161Z",
     "iopub.status.busy": "2023-08-10T12:10:20.321175Z",
     "iopub.status.idle": "2023-08-10T12:10:20.533890Z",
     "shell.execute_reply": "2023-08-10T12:10:20.532438Z"
    },
    "papermill": {
     "duration": 0.23322,
     "end_time": "2023-08-10T12:10:20.536930",
     "exception": false,
     "start_time": "2023-08-10T12:10:20.303710",
     "status": "completed"
    },
    "tags": []
   },
   "outputs": [
    {
     "data": {
      "text/html": [
       "<div>\n",
       "<style scoped>\n",
       "    .dataframe tbody tr th:only-of-type {\n",
       "        vertical-align: middle;\n",
       "    }\n",
       "\n",
       "    .dataframe tbody tr th {\n",
       "        vertical-align: top;\n",
       "    }\n",
       "\n",
       "    .dataframe thead th {\n",
       "        text-align: right;\n",
       "    }\n",
       "</style>\n",
       "<table border=\"1\" class=\"dataframe\">\n",
       "  <thead>\n",
       "    <tr style=\"text-align: right;\">\n",
       "      <th></th>\n",
       "      <th>name</th>\n",
       "      <th>rank</th>\n",
       "      <th>gender</th>\n",
       "      <th>wage_eur</th>\n",
       "      <th>log_wage</th>\n",
       "      <th>position</th>\n",
       "      <th>nationality</th>\n",
       "      <th>club</th>\n",
       "      <th>league</th>\n",
       "      <th>preferred_foot</th>\n",
       "      <th>shooting</th>\n",
       "      <th>passing</th>\n",
       "      <th>dribbling</th>\n",
       "      <th>defending</th>\n",
       "      <th>attacking</th>\n",
       "      <th>skill</th>\n",
       "      <th>movement</th>\n",
       "      <th>power</th>\n",
       "      <th>mentality</th>\n",
       "      <th>goalkeeping</th>\n",
       "    </tr>\n",
       "  </thead>\n",
       "  <tbody>\n",
       "    <tr>\n",
       "      <th>0</th>\n",
       "      <td>Lionel Andrés Messi Cuccittini</td>\n",
       "      <td>93</td>\n",
       "      <td>M</td>\n",
       "      <td>320000.0</td>\n",
       "      <td>12.676076</td>\n",
       "      <td>RW</td>\n",
       "      <td>Argentina</td>\n",
       "      <td>Paris Saint-Germain</td>\n",
       "      <td>French Ligue 1</td>\n",
       "      <td>Left</td>\n",
       "      <td>92.0</td>\n",
       "      <td>91.0</td>\n",
       "      <td>95.0</td>\n",
       "      <td>26.333333</td>\n",
       "      <td>85.8</td>\n",
       "      <td>94.0</td>\n",
       "      <td>90.2</td>\n",
       "      <td>77.8</td>\n",
       "      <td>73.833333</td>\n",
       "      <td>10.8</td>\n",
       "    </tr>\n",
       "    <tr>\n",
       "      <th>1</th>\n",
       "      <td>Lucia Roberta Tough Bronze</td>\n",
       "      <td>92</td>\n",
       "      <td>F</td>\n",
       "      <td>NaN</td>\n",
       "      <td>NaN</td>\n",
       "      <td>NaN</td>\n",
       "      <td>England</td>\n",
       "      <td>NaN</td>\n",
       "      <td>NaN</td>\n",
       "      <td>Right</td>\n",
       "      <td>61.0</td>\n",
       "      <td>70.0</td>\n",
       "      <td>81.0</td>\n",
       "      <td>89.000000</td>\n",
       "      <td>69.0</td>\n",
       "      <td>62.2</td>\n",
       "      <td>84.2</td>\n",
       "      <td>78.8</td>\n",
       "      <td>69.166667</td>\n",
       "      <td>12.6</td>\n",
       "    </tr>\n",
       "    <tr>\n",
       "      <th>2</th>\n",
       "      <td>Vivianne Miedema</td>\n",
       "      <td>92</td>\n",
       "      <td>F</td>\n",
       "      <td>NaN</td>\n",
       "      <td>NaN</td>\n",
       "      <td>NaN</td>\n",
       "      <td>Netherlands</td>\n",
       "      <td>NaN</td>\n",
       "      <td>NaN</td>\n",
       "      <td>Right</td>\n",
       "      <td>93.0</td>\n",
       "      <td>75.0</td>\n",
       "      <td>88.0</td>\n",
       "      <td>25.000000</td>\n",
       "      <td>86.0</td>\n",
       "      <td>79.0</td>\n",
       "      <td>80.6</td>\n",
       "      <td>84.0</td>\n",
       "      <td>70.833333</td>\n",
       "      <td>15.6</td>\n",
       "    </tr>\n",
       "    <tr>\n",
       "      <th>3</th>\n",
       "      <td>Wéndèleine Thérèse Renard</td>\n",
       "      <td>92</td>\n",
       "      <td>F</td>\n",
       "      <td>NaN</td>\n",
       "      <td>NaN</td>\n",
       "      <td>NaN</td>\n",
       "      <td>France</td>\n",
       "      <td>NaN</td>\n",
       "      <td>NaN</td>\n",
       "      <td>Right</td>\n",
       "      <td>70.0</td>\n",
       "      <td>62.0</td>\n",
       "      <td>73.0</td>\n",
       "      <td>91.333333</td>\n",
       "      <td>62.6</td>\n",
       "      <td>67.8</td>\n",
       "      <td>64.0</td>\n",
       "      <td>82.4</td>\n",
       "      <td>73.500000</td>\n",
       "      <td>12.8</td>\n",
       "    </tr>\n",
       "    <tr>\n",
       "      <th>4</th>\n",
       "      <td>Robert Lewandowski</td>\n",
       "      <td>92</td>\n",
       "      <td>M</td>\n",
       "      <td>270000.0</td>\n",
       "      <td>12.506177</td>\n",
       "      <td>ST</td>\n",
       "      <td>Poland</td>\n",
       "      <td>FC Bayern München</td>\n",
       "      <td>German 1. Bundesliga</td>\n",
       "      <td>Right</td>\n",
       "      <td>92.0</td>\n",
       "      <td>79.0</td>\n",
       "      <td>86.0</td>\n",
       "      <td>32.000000</td>\n",
       "      <td>86.0</td>\n",
       "      <td>81.4</td>\n",
       "      <td>81.6</td>\n",
       "      <td>84.8</td>\n",
       "      <td>80.666667</td>\n",
       "      <td>10.2</td>\n",
       "    </tr>\n",
       "  </tbody>\n",
       "</table>\n",
       "</div>"
      ],
      "text/plain": [
       "                             name  rank gender  wage_eur   log_wage position  \\\n",
       "0  Lionel Andrés Messi Cuccittini    93      M  320000.0  12.676076       RW   \n",
       "1      Lucia Roberta Tough Bronze    92      F       NaN        NaN      NaN   \n",
       "2                Vivianne Miedema    92      F       NaN        NaN      NaN   \n",
       "3       Wéndèleine Thérèse Renard    92      F       NaN        NaN      NaN   \n",
       "4              Robert Lewandowski    92      M  270000.0  12.506177       ST   \n",
       "\n",
       "   nationality                 club                league preferred_foot  \\\n",
       "0    Argentina  Paris Saint-Germain        French Ligue 1           Left   \n",
       "1      England                  NaN                   NaN          Right   \n",
       "2  Netherlands                  NaN                   NaN          Right   \n",
       "3       France                  NaN                   NaN          Right   \n",
       "4       Poland    FC Bayern München  German 1. Bundesliga          Right   \n",
       "\n",
       "   shooting  passing  dribbling  defending  attacking  skill  movement  power  \\\n",
       "0      92.0     91.0       95.0  26.333333       85.8   94.0      90.2   77.8   \n",
       "1      61.0     70.0       81.0  89.000000       69.0   62.2      84.2   78.8   \n",
       "2      93.0     75.0       88.0  25.000000       86.0   79.0      80.6   84.0   \n",
       "3      70.0     62.0       73.0  91.333333       62.6   67.8      64.0   82.4   \n",
       "4      92.0     79.0       86.0  32.000000       86.0   81.4      81.6   84.8   \n",
       "\n",
       "   mentality  goalkeeping  \n",
       "0  73.833333         10.8  \n",
       "1  69.166667         12.6  \n",
       "2  70.833333         15.6  \n",
       "3  73.500000         12.8  \n",
       "4  80.666667         10.2  "
      ]
     },
     "execution_count": 2,
     "metadata": {},
     "output_type": "execute_result"
    }
   ],
   "source": [
    "import numpy as np \n",
    "import pandas as pd \n",
    "import matplotlib.pyplot as plt\n",
    "import os\n",
    "\n",
    "os.listdir('/kaggle/input')\n",
    "\n",
    "# Load the .csv data into a DataFrame\n",
    "data_df = pd.read_csv(\"/kaggle/input/fifa-2022-players/fifa22.csv\")\n",
    "# Display the first 5 rows of the dataset\n",
    "data_df.head(5)"
   ]
  },
  {
   "cell_type": "markdown",
   "id": "72ce481b",
   "metadata": {
    "papermill": {
     "duration": 0.014991,
     "end_time": "2023-08-10T12:10:20.567744",
     "exception": false,
     "start_time": "2023-08-10T12:10:20.552753",
     "status": "completed"
    },
    "tags": []
   },
   "source": [
    "The unit of analysis in this dataset are the football players."
   ]
  },
  {
   "cell_type": "markdown",
   "id": "533b2e4c",
   "metadata": {
    "papermill": {
     "duration": 0.014859,
     "end_time": "2023-08-10T12:10:20.598185",
     "exception": false,
     "start_time": "2023-08-10T12:10:20.583326",
     "status": "completed"
    },
    "tags": []
   },
   "source": [
    "# **Exploratory Data Analysis (EDA)**"
   ]
  },
  {
   "cell_type": "code",
   "execution_count": 3,
   "id": "8804def6",
   "metadata": {
    "execution": {
     "iopub.execute_input": "2023-08-10T12:10:20.631354Z",
     "iopub.status.busy": "2023-08-10T12:10:20.630915Z",
     "iopub.status.idle": "2023-08-10T12:10:20.637643Z",
     "shell.execute_reply": "2023-08-10T12:10:20.636393Z"
    },
    "papermill": {
     "duration": 0.026415,
     "end_time": "2023-08-10T12:10:20.640406",
     "exception": false,
     "start_time": "2023-08-10T12:10:20.613991",
     "status": "completed"
    },
    "tags": []
   },
   "outputs": [
    {
     "name": "stdout",
     "output_type": "stream",
     "text": [
      "There are 19630 observations and 20 features.\n"
     ]
    }
   ],
   "source": [
    "print(\"There are \" + str(len(data_df)) + \" observations and \" + str(len(data_df.columns)) + \" features.\")"
   ]
  },
  {
   "cell_type": "code",
   "execution_count": 4,
   "id": "0a80bf36",
   "metadata": {
    "execution": {
     "iopub.execute_input": "2023-08-10T12:10:20.675203Z",
     "iopub.status.busy": "2023-08-10T12:10:20.674206Z",
     "iopub.status.idle": "2023-08-10T12:10:20.689472Z",
     "shell.execute_reply": "2023-08-10T12:10:20.688422Z"
    },
    "papermill": {
     "duration": 0.036492,
     "end_time": "2023-08-10T12:10:20.692671",
     "exception": false,
     "start_time": "2023-08-10T12:10:20.656179",
     "status": "completed"
    },
    "tags": []
   },
   "outputs": [
    {
     "name": "stdout",
     "output_type": "stream",
     "text": [
      "Number of male players: 19239\n",
      "Number of female players: 391\n"
     ]
    }
   ],
   "source": [
    "gender = data_df[\"gender\"].value_counts()\n",
    "male_players = gender[\"M\"]\n",
    "female_players = gender[\"F\"]\n",
    "\n",
    "print(\"Number of male players:\", male_players)\n",
    "print(\"Number of female players:\", female_players)"
   ]
  },
  {
   "cell_type": "code",
   "execution_count": 5,
   "id": "2d46f48c",
   "metadata": {
    "execution": {
     "iopub.execute_input": "2023-08-10T12:10:20.726197Z",
     "iopub.status.busy": "2023-08-10T12:10:20.725656Z",
     "iopub.status.idle": "2023-08-10T12:10:20.743794Z",
     "shell.execute_reply": "2023-08-10T12:10:20.742126Z"
    },
    "papermill": {
     "duration": 0.038824,
     "end_time": "2023-08-10T12:10:20.747009",
     "exception": false,
     "start_time": "2023-08-10T12:10:20.708185",
     "status": "completed"
    },
    "tags": []
   },
   "outputs": [
    {
     "name": "stdout",
     "output_type": "stream",
     "text": [
      "Shape of final dataset: (17450, 20)\n"
     ]
    }
   ],
   "source": [
    "# Remove rows with missing values in the \"passing\" column\n",
    "data_df = data_df.dropna(subset = [\"passing\"])\n",
    "print(\"Shape of final dataset:\", data_df.shape)"
   ]
  },
  {
   "cell_type": "markdown",
   "id": "a6be35c2",
   "metadata": {
    "papermill": {
     "duration": 0.01572,
     "end_time": "2023-08-10T12:10:20.778277",
     "exception": false,
     "start_time": "2023-08-10T12:10:20.762557",
     "status": "completed"
    },
    "tags": []
   },
   "source": [
    "# **Data Analysis and Interpretation**"
   ]
  },
  {
   "cell_type": "code",
   "execution_count": 6,
   "id": "40723227",
   "metadata": {
    "execution": {
     "iopub.execute_input": "2023-08-10T12:10:20.813415Z",
     "iopub.status.busy": "2023-08-10T12:10:20.812930Z",
     "iopub.status.idle": "2023-08-10T12:10:23.993345Z",
     "shell.execute_reply": "2023-08-10T12:10:23.991561Z"
    },
    "papermill": {
     "duration": 3.204671,
     "end_time": "2023-08-10T12:10:23.999296",
     "exception": false,
     "start_time": "2023-08-10T12:10:20.794625",
     "status": "completed"
    },
    "tags": []
   },
   "outputs": [
    {
     "name": "stderr",
     "output_type": "stream",
     "text": [
      "/opt/conda/lib/python3.10/site-packages/scipy/__init__.py:146: UserWarning: A NumPy version >=1.16.5 and <1.23.0 is required for this version of SciPy (detected version 1.23.5\n",
      "  warnings.warn(f\"A NumPy version >={np_minversion} and <{np_maxversion}\"\n"
     ]
    },
    {
     "name": "stdout",
     "output_type": "stream",
     "text": [
      "                            OLS Regression Results                            \n",
      "==============================================================================\n",
      "Dep. Variable:                   rank   R-squared:                       0.705\n",
      "Model:                            OLS   Adj. R-squared:                  0.705\n",
      "Method:                 Least Squares   F-statistic:                 1.044e+04\n",
      "Date:                Thu, 10 Aug 2023   Prob (F-statistic):               0.00\n",
      "Time:                        12:10:23   Log-Likelihood:                -47856.\n",
      "No. Observations:               17450   AIC:                         9.572e+04\n",
      "Df Residuals:                   17445   BIC:                         9.576e+04\n",
      "Df Model:                           4                                         \n",
      "Covariance Type:            nonrobust                                         \n",
      "==============================================================================\n",
      "                 coef    std err          t      P>|t|      [0.025      0.975]\n",
      "------------------------------------------------------------------------------\n",
      "const         25.3278      0.203    124.785      0.000      24.930      25.726\n",
      "passing       -0.0247      0.010     -2.425      0.015      -0.045      -0.005\n",
      "attacking      0.6109      0.006     94.005      0.000       0.598       0.624\n",
      "defending      0.1719      0.002     84.413      0.000       0.168       0.176\n",
      "skill          0.0066      0.009      0.730      0.465      -0.011       0.024\n",
      "==============================================================================\n",
      "Omnibus:                      171.799   Durbin-Watson:                   1.342\n",
      "Prob(Omnibus):                  0.000   Jarque-Bera (JB):              178.339\n",
      "Skew:                           0.234   Prob(JB):                     1.88e-39\n",
      "Kurtosis:                       3.163   Cond. No.                         790.\n",
      "==============================================================================\n",
      "\n",
      "Notes:\n",
      "[1] Standard Errors assume that the covariance matrix of the errors is correctly specified.\n"
     ]
    }
   ],
   "source": [
    "import statsmodels.api as smf\n",
    "\n",
    "# Estimate a multiple regression evaluating the effect on rank of four features: passing, attacking, defending, and skill\n",
    "x_axis = data_df[[\"passing\", \"attacking\", \"defending\", \"skill\"]]\n",
    "y_axis = data_df[\"rank\"]\n",
    "x_axis = smf.add_constant(x_axis)\n",
    "model = smf.OLS(y_axis, x_axis).fit()\n",
    "\n",
    "print(model.summary())"
   ]
  },
  {
   "cell_type": "code",
   "execution_count": 7,
   "id": "4e0ed5e9",
   "metadata": {
    "execution": {
     "iopub.execute_input": "2023-08-10T12:10:24.072438Z",
     "iopub.status.busy": "2023-08-10T12:10:24.071531Z",
     "iopub.status.idle": "2023-08-10T12:10:24.082101Z",
     "shell.execute_reply": "2023-08-10T12:10:24.080141Z"
    },
    "papermill": {
     "duration": 0.059818,
     "end_time": "2023-08-10T12:10:24.092793",
     "exception": false,
     "start_time": "2023-08-10T12:10:24.032975",
     "status": "completed"
    },
    "tags": []
   },
   "outputs": [
    {
     "name": "stdout",
     "output_type": "stream",
     "text": [
      "R-squared value: 0.7052478740013822\n"
     ]
    }
   ],
   "source": [
    "r_squared = model.rsquared\n",
    "print(\"R-squared value:\", r_squared)"
   ]
  },
  {
   "cell_type": "markdown",
   "id": "6e8bda3a",
   "metadata": {
    "papermill": {
     "duration": 0.015393,
     "end_time": "2023-08-10T12:10:24.126283",
     "exception": false,
     "start_time": "2023-08-10T12:10:24.110890",
     "status": "completed"
    },
    "tags": []
   },
   "source": [
    "We can use the R-squared value to determine how much of the variation in “rank” is explained by our features, “passing,” “attacking,” “defending,” and “skill.” Our R-squared value is 0.705, which means that approximately 70.5% of the variation in rank is explained by our features."
   ]
  },
  {
   "cell_type": "markdown",
   "id": "90c3a748",
   "metadata": {
    "papermill": {
     "duration": 0.015814,
     "end_time": "2023-08-10T12:10:24.158742",
     "exception": false,
     "start_time": "2023-08-10T12:10:24.142928",
     "status": "completed"
    },
    "tags": []
   },
   "source": [
    "We can check if any of our features are significant at the 1% level by checking their p-values. The independent variables “attacking” and “defending” have p-values of 0.00. This means that they are below 0.01 and are therefore statistically significant."
   ]
  },
  {
   "cell_type": "markdown",
   "id": "1bfc3af1",
   "metadata": {
    "papermill": {
     "duration": 0.01766,
     "end_time": "2023-08-10T12:10:24.195243",
     "exception": false,
     "start_time": "2023-08-10T12:10:24.177583",
     "status": "completed"
    },
    "tags": []
   },
   "source": [
    "The coeﬀicient in the regression output tells us the estimated effect of a one-unit increase in the “skill” variable on the rank, while holding the other independent variables constant. The coeﬀicient for “skill” is 0.0066, which means that a one-unit increase in “skill” will increase 0.0066 units in rank. Therefore, if all other variables are held constant, a football player with one more unit of skill is expected to have a 0.0066 higher rank."
   ]
  },
  {
   "cell_type": "markdown",
   "id": "76271539",
   "metadata": {
    "papermill": {
     "duration": 0.015328,
     "end_time": "2023-08-10T12:10:24.226603",
     "exception": false,
     "start_time": "2023-08-10T12:10:24.211275",
     "status": "completed"
    },
    "tags": []
   },
   "source": [
    "# **Model Evaluation and Testing**"
   ]
  },
  {
   "cell_type": "markdown",
   "id": "1756635c",
   "metadata": {
    "papermill": {
     "duration": 0.01786,
     "end_time": "2023-08-10T12:10:24.260463",
     "exception": false,
     "start_time": "2023-08-10T12:10:24.242603",
     "status": "completed"
    },
    "tags": []
   },
   "source": [
    "We will use SciKit Learn and a test/train split to see how well our model – using the same DV and IVs – can predict a player’s rank."
   ]
  },
  {
   "cell_type": "code",
   "execution_count": 8,
   "id": "775779cc",
   "metadata": {
    "execution": {
     "iopub.execute_input": "2023-08-10T12:10:24.298415Z",
     "iopub.status.busy": "2023-08-10T12:10:24.296995Z",
     "iopub.status.idle": "2023-08-10T12:10:24.313282Z",
     "shell.execute_reply": "2023-08-10T12:10:24.311667Z"
    },
    "papermill": {
     "duration": 0.037305,
     "end_time": "2023-08-10T12:10:24.315765",
     "exception": false,
     "start_time": "2023-08-10T12:10:24.278460",
     "status": "completed"
    },
    "tags": []
   },
   "outputs": [
    {
     "name": "stdout",
     "output_type": "stream",
     "text": [
      "   passing  attacking  defending  skill\n",
      "0     91.0       85.8  26.333333   94.0\n",
      "1     70.0       69.0  89.000000   62.2\n",
      "2     75.0       86.0  25.000000   79.0\n",
      "3     62.0       62.6  91.333333   67.8\n",
      "4     79.0       86.0  32.000000   81.4\n",
      "\n",
      "   rank\n",
      "0    93\n",
      "1    92\n",
      "2    92\n",
      "3    92\n",
      "4    92\n"
     ]
    }
   ],
   "source": [
    "# Create an X dataframe with just four features: passing, attacking, defending, and skill\n",
    "X = data_df[[\"passing\", \"attacking\", \"defending\", \"skill\"]]\n",
    "# Create a Y dataframe with just the “rank” variable\n",
    "Y = data_df[[\"rank\"]]\n",
    "\n",
    "# Display the first five rows of each\n",
    "print(X.head())\n",
    "print()\n",
    "print(Y.head())"
   ]
  },
  {
   "cell_type": "code",
   "execution_count": 9,
   "id": "7fdb3e04",
   "metadata": {
    "execution": {
     "iopub.execute_input": "2023-08-10T12:10:24.350582Z",
     "iopub.status.busy": "2023-08-10T12:10:24.349235Z",
     "iopub.status.idle": "2023-08-10T12:10:24.594496Z",
     "shell.execute_reply": "2023-08-10T12:10:24.593255Z"
    },
    "papermill": {
     "duration": 0.265682,
     "end_time": "2023-08-10T12:10:24.597333",
     "exception": false,
     "start_time": "2023-08-10T12:10:24.331651",
     "status": "completed"
    },
    "tags": []
   },
   "outputs": [
    {
     "name": "stdout",
     "output_type": "stream",
     "text": [
      "       passing  attacking  defending  skill\n",
      "17226     52.0       48.0  59.333333   53.2\n",
      "13548     48.0       55.0  12.666667   54.0\n",
      "17874     59.0       46.2  58.000000   57.8\n",
      "19599     47.0       40.6  46.666667   40.0\n",
      "15629     49.0       51.8  25.666667   49.6\n"
     ]
    }
   ],
   "source": [
    "from sklearn.model_selection import train_test_split\n",
    "\n",
    "# Split the data into training and testing sets using train_test_split function\n",
    "# X and Y are the input features and target variable respectively\n",
    "# test_size specifies the proportion of data to allocate for testing (25% in this case)\n",
    "# random_state is used to ensure reproducibility of the split\n",
    "X_train, X_test, Y_train, Y_test = train_test_split(X, Y, test_size = 0.25, random_state = 123) \n",
    "\n",
    "# Print the first 5 rows of the X_train dataset\n",
    "print(X_train.head(5))"
   ]
  },
  {
   "cell_type": "code",
   "execution_count": 10,
   "id": "e7538415",
   "metadata": {
    "execution": {
     "iopub.execute_input": "2023-08-10T12:10:24.631706Z",
     "iopub.status.busy": "2023-08-10T12:10:24.631244Z",
     "iopub.status.idle": "2023-08-10T12:10:24.769444Z",
     "shell.execute_reply": "2023-08-10T12:10:24.768399Z"
    },
    "papermill": {
     "duration": 0.158533,
     "end_time": "2023-08-10T12:10:24.772148",
     "exception": false,
     "start_time": "2023-08-10T12:10:24.613615",
     "status": "completed"
    },
    "tags": []
   },
   "outputs": [
    {
     "name": "stdout",
     "output_type": "stream",
     "text": [
      "Intercept: [25.16773306]\n",
      "Coefficients: [[-0.02444506  0.61230756  0.17314968  0.00612364]]\n"
     ]
    }
   ],
   "source": [
    "from sklearn.linear_model import LinearRegression \n",
    "\n",
    "lr_model = LinearRegression()\n",
    "# Fit the linear regression model using the training data\n",
    "lr_model.fit(X_train, Y_train)\n",
    "\n",
    "# Display the intercept and coefficients of trained model\n",
    "print(\"Intercept:\", lr_model.intercept_)\n",
    "print(\"Coefficients:\", lr_model.coef_)"
   ]
  },
  {
   "cell_type": "code",
   "execution_count": 11,
   "id": "ac1208c9",
   "metadata": {
    "execution": {
     "iopub.execute_input": "2023-08-10T12:10:24.807833Z",
     "iopub.status.busy": "2023-08-10T12:10:24.807362Z",
     "iopub.status.idle": "2023-08-10T12:10:24.824651Z",
     "shell.execute_reply": "2023-08-10T12:10:24.822446Z"
    },
    "papermill": {
     "duration": 0.041355,
     "end_time": "2023-08-10T12:10:24.829631",
     "exception": false,
     "start_time": "2023-08-10T12:10:24.788276",
     "status": "completed"
    },
    "tags": []
   },
   "outputs": [
    {
     "name": "stdout",
     "output_type": "stream",
     "text": [
      "Predicted values: [[64.57617047]\n",
      " [72.78035994]\n",
      " [70.46341746]]\n"
     ]
    }
   ],
   "source": [
    "# Use the trained linear regression model (lr_model) to make predictions on the testing data (X_test)\n",
    "Y_pred = lr_model.predict(X_test)\n",
    "# Print the predicted values for the first 3 instances in the testing data\n",
    "print(\"Predicted values:\", Y_pred[:3])"
   ]
  },
  {
   "cell_type": "code",
   "execution_count": 12,
   "id": "fa1b641a",
   "metadata": {
    "execution": {
     "iopub.execute_input": "2023-08-10T12:10:24.903791Z",
     "iopub.status.busy": "2023-08-10T12:10:24.902992Z",
     "iopub.status.idle": "2023-08-10T12:10:25.291157Z",
     "shell.execute_reply": "2023-08-10T12:10:25.290027Z"
    },
    "papermill": {
     "duration": 0.428403,
     "end_time": "2023-08-10T12:10:25.294582",
     "exception": false,
     "start_time": "2023-08-10T12:10:24.866179",
     "status": "completed"
    },
    "tags": []
   },
   "outputs": [
    {
     "data": {
      "image/png": "[encoded data removed]",
      "text/plain": [
       "<Figure size 640x480 with 1 Axes>"
      ]
     },
     "metadata": {},
     "output_type": "display_data"
    }
   ],
   "source": [
    "plt.scatter(Y_test, Y_pred, s = 50, edgecolors = \"black\")\n",
    "plt.xlabel(\"Actual Value of Y Test Data\")\n",
    "plt.ylabel(\"Predicted Y values of X Test Data\")\n",
    "plt.grid()\n",
    "plt.show()"
   ]
  },
  {
   "cell_type": "code",
   "execution_count": 13,
   "id": "9d1e6ec9",
   "metadata": {
    "execution": {
     "iopub.execute_input": "2023-08-10T12:10:25.334205Z",
     "iopub.status.busy": "2023-08-10T12:10:25.333688Z",
     "iopub.status.idle": "2023-08-10T12:10:25.343775Z",
     "shell.execute_reply": "2023-08-10T12:10:25.342233Z"
    },
    "papermill": {
     "duration": 0.035454,
     "end_time": "2023-08-10T12:10:25.348895",
     "exception": false,
     "start_time": "2023-08-10T12:10:25.313441",
     "status": "completed"
    },
    "tags": []
   },
   "outputs": [
    {
     "name": "stdout",
     "output_type": "stream",
     "text": [
      "RMSE: 3.7445626399871976\n"
     ]
    }
   ],
   "source": [
    "from sklearn.metrics import mean_squared_error\n",
    "\n",
    "# Display the Root Mean Squared Error (RMSE) for this model\n",
    "rmse = np.sqrt(mean_squared_error(Y_test, Y_pred))\n",
    "print('RMSE:', rmse)"
   ]
  },
  {
   "cell_type": "markdown",
   "id": "3fd2cb7f",
   "metadata": {
    "papermill": {
     "duration": 0.017483,
     "end_time": "2023-08-10T12:10:25.383973",
     "exception": false,
     "start_time": "2023-08-10T12:10:25.366490",
     "status": "completed"
    },
    "tags": []
   },
   "source": [
    "Overall, the scaterplot of predicted values against actual values shows fairly accurate predictions due to the fairly tight cluster of points around the line of best fit. However, there are still some points that are further away from the line of best fit, which means that the scatterplot is less accurate for those observations. In addition, our overall model only includes four features. Therefore, we may be lacking other variables that could better explain variation in rank."
   ]
  },
  {
   "cell_type": "markdown",
   "id": "f59dc3d2",
   "metadata": {
    "papermill": {
     "duration": 0.017707,
     "end_time": "2023-08-10T12:10:25.419407",
     "exception": false,
     "start_time": "2023-08-10T12:10:25.401700",
     "status": "completed"
    },
    "tags": []
   },
   "source": [
    "# **Classification and Model Evaluation**"
   ]
  },
  {
   "cell_type": "markdown",
   "id": "876a122e",
   "metadata": {
    "papermill": {
     "duration": 0.017243,
     "end_time": "2023-08-10T12:10:25.454948",
     "exception": false,
     "start_time": "2023-08-10T12:10:25.437705",
     "status": "completed"
    },
    "tags": []
   },
   "source": [
    "We will use KNN to try to classify players’ “preferred foot."
   ]
  },
  {
   "cell_type": "code",
   "execution_count": 14,
   "id": "cc7c275f",
   "metadata": {
    "execution": {
     "iopub.execute_input": "2023-08-10T12:10:25.493012Z",
     "iopub.status.busy": "2023-08-10T12:10:25.492093Z",
     "iopub.status.idle": "2023-08-10T12:10:25.503592Z",
     "shell.execute_reply": "2023-08-10T12:10:25.501880Z"
    },
    "papermill": {
     "duration": 0.034015,
     "end_time": "2023-08-10T12:10:25.506592",
     "exception": false,
     "start_time": "2023-08-10T12:10:25.472577",
     "status": "completed"
    },
    "tags": []
   },
   "outputs": [
    {
     "name": "stdout",
     "output_type": "stream",
     "text": [
      "Right    13044\n",
      "Left      4406\n",
      "Name: preferred_foot, dtype: int64\n"
     ]
    }
   ],
   "source": [
    "# Display the count of each value present in the preferred foot column\n",
    "print(data_df[\"preferred_foot\"].value_counts())"
   ]
  },
  {
   "cell_type": "code",
   "execution_count": 15,
   "id": "b8a9ea62",
   "metadata": {
    "execution": {
     "iopub.execute_input": "2023-08-10T12:10:25.546866Z",
     "iopub.status.busy": "2023-08-10T12:10:25.546397Z",
     "iopub.status.idle": "2023-08-10T12:10:25.558670Z",
     "shell.execute_reply": "2023-08-10T12:10:25.557178Z"
    },
    "papermill": {
     "duration": 0.035505,
     "end_time": "2023-08-10T12:10:25.561190",
     "exception": false,
     "start_time": "2023-08-10T12:10:25.525685",
     "status": "completed"
    },
    "tags": []
   },
   "outputs": [
    {
     "name": "stdout",
     "output_type": "stream",
     "text": [
      "Percentage of players who prefer their right foot: 74.75 %\n"
     ]
    }
   ],
   "source": [
    "right_foot_count = (data_df[\"preferred_foot\"] == \"Right\").sum()\n",
    "right_foot_percent = right_foot_count / len(data_df) * 100\n",
    "print(\"Percentage of players who prefer their right foot:\", round(right_foot_percent, 2), \"%\")"
   ]
  },
  {
   "cell_type": "markdown",
   "id": "fb9dfe55",
   "metadata": {
    "papermill": {
     "duration": 0.017757,
     "end_time": "2023-08-10T12:10:25.597110",
     "exception": false,
     "start_time": "2023-08-10T12:10:25.579353",
     "status": "completed"
    },
    "tags": []
   },
   "source": [
    "We want to build a classifier using 10 available dimensions: shooting, passing, dribbling, defending, attacking, skill, movement, power, mentality, and goalkeeping."
   ]
  },
  {
   "cell_type": "code",
   "execution_count": 16,
   "id": "72454880",
   "metadata": {
    "execution": {
     "iopub.execute_input": "2023-08-10T12:10:25.635928Z",
     "iopub.status.busy": "2023-08-10T12:10:25.635104Z",
     "iopub.status.idle": "2023-08-10T12:10:25.659435Z",
     "shell.execute_reply": "2023-08-10T12:10:25.658127Z"
    },
    "papermill": {
     "duration": 0.0474,
     "end_time": "2023-08-10T12:10:25.662430",
     "exception": false,
     "start_time": "2023-08-10T12:10:25.615030",
     "status": "completed"
    },
    "tags": []
   },
   "outputs": [
    {
     "data": {
      "text/html": [
       "<div>\n",
       "<style scoped>\n",
       "    .dataframe tbody tr th:only-of-type {\n",
       "        vertical-align: middle;\n",
       "    }\n",
       "\n",
       "    .dataframe tbody tr th {\n",
       "        vertical-align: top;\n",
       "    }\n",
       "\n",
       "    .dataframe thead th {\n",
       "        text-align: right;\n",
       "    }\n",
       "</style>\n",
       "<table border=\"1\" class=\"dataframe\">\n",
       "  <thead>\n",
       "    <tr style=\"text-align: right;\">\n",
       "      <th></th>\n",
       "      <th>shooting</th>\n",
       "      <th>passing</th>\n",
       "      <th>dribbling</th>\n",
       "      <th>defending</th>\n",
       "      <th>attacking</th>\n",
       "      <th>skill</th>\n",
       "      <th>movement</th>\n",
       "      <th>power</th>\n",
       "      <th>mentality</th>\n",
       "      <th>goalkeeping</th>\n",
       "    </tr>\n",
       "  </thead>\n",
       "  <tbody>\n",
       "    <tr>\n",
       "      <th>0</th>\n",
       "      <td>92.0</td>\n",
       "      <td>91.0</td>\n",
       "      <td>95.0</td>\n",
       "      <td>26.333333</td>\n",
       "      <td>85.8</td>\n",
       "      <td>94.0</td>\n",
       "      <td>90.2</td>\n",
       "      <td>77.8</td>\n",
       "      <td>73.833333</td>\n",
       "      <td>10.8</td>\n",
       "    </tr>\n",
       "    <tr>\n",
       "      <th>1</th>\n",
       "      <td>61.0</td>\n",
       "      <td>70.0</td>\n",
       "      <td>81.0</td>\n",
       "      <td>89.000000</td>\n",
       "      <td>69.0</td>\n",
       "      <td>62.2</td>\n",
       "      <td>84.2</td>\n",
       "      <td>78.8</td>\n",
       "      <td>69.166667</td>\n",
       "      <td>12.6</td>\n",
       "    </tr>\n",
       "    <tr>\n",
       "      <th>2</th>\n",
       "      <td>93.0</td>\n",
       "      <td>75.0</td>\n",
       "      <td>88.0</td>\n",
       "      <td>25.000000</td>\n",
       "      <td>86.0</td>\n",
       "      <td>79.0</td>\n",
       "      <td>80.6</td>\n",
       "      <td>84.0</td>\n",
       "      <td>70.833333</td>\n",
       "      <td>15.6</td>\n",
       "    </tr>\n",
       "    <tr>\n",
       "      <th>3</th>\n",
       "      <td>70.0</td>\n",
       "      <td>62.0</td>\n",
       "      <td>73.0</td>\n",
       "      <td>91.333333</td>\n",
       "      <td>62.6</td>\n",
       "      <td>67.8</td>\n",
       "      <td>64.0</td>\n",
       "      <td>82.4</td>\n",
       "      <td>73.500000</td>\n",
       "      <td>12.8</td>\n",
       "    </tr>\n",
       "    <tr>\n",
       "      <th>4</th>\n",
       "      <td>92.0</td>\n",
       "      <td>79.0</td>\n",
       "      <td>86.0</td>\n",
       "      <td>32.000000</td>\n",
       "      <td>86.0</td>\n",
       "      <td>81.4</td>\n",
       "      <td>81.6</td>\n",
       "      <td>84.8</td>\n",
       "      <td>80.666667</td>\n",
       "      <td>10.2</td>\n",
       "    </tr>\n",
       "  </tbody>\n",
       "</table>\n",
       "</div>"
      ],
      "text/plain": [
       "   shooting  passing  dribbling  defending  attacking  skill  movement  power  \\\n",
       "0      92.0     91.0       95.0  26.333333       85.8   94.0      90.2   77.8   \n",
       "1      61.0     70.0       81.0  89.000000       69.0   62.2      84.2   78.8   \n",
       "2      93.0     75.0       88.0  25.000000       86.0   79.0      80.6   84.0   \n",
       "3      70.0     62.0       73.0  91.333333       62.6   67.8      64.0   82.4   \n",
       "4      92.0     79.0       86.0  32.000000       86.0   81.4      81.6   84.8   \n",
       "\n",
       "   mentality  goalkeeping  \n",
       "0  73.833333         10.8  \n",
       "1  69.166667         12.6  \n",
       "2  70.833333         15.6  \n",
       "3  73.500000         12.8  \n",
       "4  80.666667         10.2  "
      ]
     },
     "execution_count": 16,
     "metadata": {},
     "output_type": "execute_result"
    }
   ],
   "source": [
    "# Create an X dataframe with just these 10 columns and display the first 5 rows\n",
    "X = data_df[[\"shooting\", \"passing\", \"dribbling\", \"defending\", \"attacking\", \"skill\", \"movement\", \"power\", \"mentality\", \"goalkeeping\"]]\n",
    "X.head(5)"
   ]
  },
  {
   "cell_type": "code",
   "execution_count": 17,
   "id": "c121995c",
   "metadata": {
    "execution": {
     "iopub.execute_input": "2023-08-10T12:10:25.701792Z",
     "iopub.status.busy": "2023-08-10T12:10:25.701288Z",
     "iopub.status.idle": "2023-08-10T12:10:25.716955Z",
     "shell.execute_reply": "2023-08-10T12:10:25.715472Z"
    },
    "papermill": {
     "duration": 0.03876,
     "end_time": "2023-08-10T12:10:25.719931",
     "exception": false,
     "start_time": "2023-08-10T12:10:25.681171",
     "status": "completed"
    },
    "tags": []
   },
   "outputs": [
    {
     "name": "stdout",
     "output_type": "stream",
     "text": [
      "[[ 2.7843116   3.29664165  3.31535783 -1.39304935  3.40016362  3.54858025\n",
      "   2.77464012  1.94428215  2.18061369  0.2816757 ]\n",
      " [ 0.59771861  1.22971891  1.87671942  2.13166681  1.59341682  0.59820902\n",
      "   2.07280881  2.06650141  1.62369703  1.48110007]\n",
      " [ 2.85484686  1.72184337  2.59603862 -1.46804331  3.42167251  2.15689571\n",
      "   1.65171003  2.70204154  1.82259584  3.48014068]]\n"
     ]
    }
   ],
   "source": [
    "from sklearn.preprocessing import StandardScaler\n",
    "\n",
    "scaler = StandardScaler()\n",
    "# Use the scaler to standardize (normalize) the input features (X)\n",
    "X_scaled = scaler.fit_transform(X)\n",
    "# Print the standardized (scaled) values of the first 3 instances\n",
    "print(X_scaled[:3])"
   ]
  },
  {
   "cell_type": "code",
   "execution_count": 18,
   "id": "d847ac96",
   "metadata": {
    "execution": {
     "iopub.execute_input": "2023-08-10T12:10:25.760373Z",
     "iopub.status.busy": "2023-08-10T12:10:25.759482Z",
     "iopub.status.idle": "2023-08-10T12:10:25.773096Z",
     "shell.execute_reply": "2023-08-10T12:10:25.771511Z"
    },
    "papermill": {
     "duration": 0.036764,
     "end_time": "2023-08-10T12:10:25.775804",
     "exception": false,
     "start_time": "2023-08-10T12:10:25.739040",
     "status": "completed"
    },
    "tags": []
   },
   "outputs": [
    {
     "name": "stdout",
     "output_type": "stream",
     "text": [
      "[[-2.01208594 -1.42775318 -1.51435684  0.44430269 -1.82649677 -1.57281886\n",
      "  -0.96846017 -1.01342387 -1.55868391  0.54821445]\n",
      " [-0.46031026  0.34389488  0.74636066  0.4255542  -0.27785665  0.61676481\n",
      "   0.69254058 -0.6467661  -0.30562141 -0.25140179]\n",
      " [ 0.31557757  0.1470451   0.12980134 -0.88684012  0.08779448  0.00442362\n",
      "  -0.05607947 -0.40232758 -0.36529105 -1.85063428]]\n"
     ]
    }
   ],
   "source": [
    "# Split the scaled input features (X_scaled) and the \"preferred_foot\" target variable into training and testing sets using train_test_split function\n",
    "# Here, test_size specifies the proportion of data to allocate for testing (30% in this case)\n",
    "# random_state is used to ensure reproducibility of the split\n",
    "X_train, X_test, Y_train, Y_test = train_test_split(X_scaled, data_df[\"preferred_foot\"], test_size = 0.3, random_state = 456)\n",
    "print(X_train[:3])"
   ]
  },
  {
   "cell_type": "code",
   "execution_count": 19,
   "id": "65e33b32",
   "metadata": {
    "execution": {
     "iopub.execute_input": "2023-08-10T12:10:25.817587Z",
     "iopub.status.busy": "2023-08-10T12:10:25.816781Z",
     "iopub.status.idle": "2023-08-10T12:10:45.698346Z",
     "shell.execute_reply": "2023-08-10T12:10:45.696981Z"
    },
    "papermill": {
     "duration": 19.906552,
     "end_time": "2023-08-10T12:10:45.701407",
     "exception": false,
     "start_time": "2023-08-10T12:10:25.794855",
     "status": "completed"
    },
    "tags": []
   },
   "outputs": [
    {
     "data": {
      "image/png": "[encoded data removed]",
      "text/plain": [
       "<Figure size 640x480 with 1 Axes>"
      ]
     },
     "metadata": {},
     "output_type": "display_data"
    }
   ],
   "source": [
    "from sklearn.neighbors import KNeighborsClassifier \n",
    "from sklearn.metrics import accuracy_score\n",
    "\n",
    "# Reshape the Y_train values to be a 2D array\n",
    "Y_train = Y_train.values.reshape(-1, 1)\n",
    "\n",
    "# Create an empty list to store accuracy values for different k values\n",
    "accuracy_values = []\n",
    "\n",
    "# Loop through values of k from 1 to 30\n",
    "for i in range(1, 31):\n",
    "    \n",
    "    # Create a KNeighborsClassifier instance with k neighbors\n",
    "    knn = KNeighborsClassifier(n_neighbors = i) \n",
    "    \n",
    "    # Fit the KNN classifier to the training data\n",
    "    knn.fit(X_train, Y_train.flatten())\n",
    "    \n",
    "    # Make predictions using the trained KNN classifier\n",
    "    Y_pred = knn.predict(X_test)\n",
    "    \n",
    "    # Calculate accuracy of the predictions\n",
    "    accuracy = accuracy_score(Y_test, Y_pred) \n",
    "    \n",
    "    # Append the accuracy value to the accuracy_values list\n",
    "    accuracy_values.append(accuracy)\n",
    "\n",
    "# Plotting the accuracy values against different k values\n",
    "plt.plot(range(1, 31), accuracy_values, color = \"red\", linestyle = \"dashed\", marker = \"o\", markerfacecolor = \"blue\", markersize = 10)\n",
    "plt.xlabel(\"K Value\")\n",
    "plt.ylabel(\"Accuracy\")\n",
    "plt.title(\"KNN: Accuracy as k increases\")\n",
    "plt.show()"
   ]
  },
  {
   "cell_type": "code",
   "execution_count": 20,
   "id": "71c2c1a3",
   "metadata": {
    "execution": {
     "iopub.execute_input": "2023-08-10T12:10:45.742739Z",
     "iopub.status.busy": "2023-08-10T12:10:45.741435Z",
     "iopub.status.idle": "2023-08-10T12:10:46.456386Z",
     "shell.execute_reply": "2023-08-10T12:10:46.454626Z"
    },
    "papermill": {
     "duration": 0.739069,
     "end_time": "2023-08-10T12:10:46.459487",
     "exception": false,
     "start_time": "2023-08-10T12:10:45.720418",
     "status": "completed"
    },
    "tags": []
   },
   "outputs": [
    {
     "name": "stderr",
     "output_type": "stream",
     "text": [
      "/opt/conda/lib/python3.10/site-packages/sklearn/neighbors/_classification.py:215: DataConversionWarning: A column-vector y was passed when a 1d array was expected. Please change the shape of y to (n_samples,), for example using ravel().\n",
      "  return self._fit(X, y)\n"
     ]
    },
    {
     "name": "stdout",
     "output_type": "stream",
     "text": [
      "['Right' 'Right' 'Right']\n"
     ]
    }
   ],
   "source": [
    "# Fit the scaler to the training data (X_train)\n",
    "scaler.fit(X_train)\n",
    "\n",
    "# Scale the training and testing input features using the fitted scaler\n",
    "X_train_scaled = scaler.transform(X_train)\n",
    "X_test_scaled = scaler.transform(X_test)\n",
    "\n",
    "# Create a KNeighborsClassifier instance with k = 25 neighbors\n",
    "knn = KNeighborsClassifier(n_neighbors = 25)\n",
    "# Fit the KNN classifier to the scaled training data and corresponding target variable\n",
    "knn.fit(X_train_scaled, Y_train)\n",
    "# Use the trained KNN classifier to predict the target variable for the scaled testing data\n",
    "Y_pred = knn.predict(X_test_scaled)\n",
    "\n",
    "# Display the first 3 predictions for “preferred foot\"\n",
    "print(Y_pred[:3])"
   ]
  },
  {
   "cell_type": "code",
   "execution_count": 21,
   "id": "3d366c9c",
   "metadata": {
    "execution": {
     "iopub.execute_input": "2023-08-10T12:10:46.503774Z",
     "iopub.status.busy": "2023-08-10T12:10:46.503324Z",
     "iopub.status.idle": "2023-08-10T12:10:46.555364Z",
     "shell.execute_reply": "2023-08-10T12:10:46.553897Z"
    },
    "papermill": {
     "duration": 0.07724,
     "end_time": "2023-08-10T12:10:46.558146",
     "exception": false,
     "start_time": "2023-08-10T12:10:46.480906",
     "status": "completed"
    },
    "tags": []
   },
   "outputs": [
    {
     "name": "stdout",
     "output_type": "stream",
     "text": [
      "[[  49 1277]\n",
      " [  67 3842]]\n",
      "TP - True Positive: 49\n",
      "FP - False Positive: 1277\n",
      "FN - False Negative: 67\n",
      "TN - True Negative: 3842\n",
      "Accuracy Rate: 0.7432664756446992\n",
      "Misclassification Rate: 0.25673352435530084\n"
     ]
    }
   ],
   "source": [
    "from sklearn.metrics import confusion_matrix\n",
    "\n",
    "# Use actual and predicted Y values to calculate and display the confusion matrix of the model\n",
    "matrix = confusion_matrix(Y_test, Y_pred) \n",
    "print(matrix)\n",
    "print(\"TP - True Positive: {}\".format(matrix[0, 0]))\n",
    "print(\"FP - False Positive: {}\".format(matrix[0, 1]))\n",
    "print(\"FN - False Negative: {}\".format(matrix[1, 0]))\n",
    "print(\"TN - True Negative: {}\".format(matrix[1, 1]))\n",
    "print(\"Accuracy Rate: {}\".format(np.divide(np.sum([matrix[0, 0], matrix[1, 1]]), np.sum(matrix))))\n",
    "print(\"Misclassification Rate: {}\".format(np.divide(np.sum([matrix[0, 1], matrix[1, 0]]), np.sum(matrix))))"
   ]
  },
  {
   "cell_type": "markdown",
   "id": "5eec1b40",
   "metadata": {
    "papermill": {
     "duration": 0.019339,
     "end_time": "2023-08-10T12:10:46.598013",
     "exception": false,
     "start_time": "2023-08-10T12:10:46.578674",
     "status": "completed"
    },
    "tags": []
   },
   "source": [
    "1277 players who prefer to use their left foot were predicted to prefer to use their right foot."
   ]
  },
  {
   "cell_type": "code",
   "execution_count": 22,
   "id": "2d942967",
   "metadata": {
    "execution": {
     "iopub.execute_input": "2023-08-10T12:10:46.639638Z",
     "iopub.status.busy": "2023-08-10T12:10:46.639168Z",
     "iopub.status.idle": "2023-08-10T12:10:46.991920Z",
     "shell.execute_reply": "2023-08-10T12:10:46.990346Z"
    },
    "papermill": {
     "duration": 0.377377,
     "end_time": "2023-08-10T12:10:46.994925",
     "exception": false,
     "start_time": "2023-08-10T12:10:46.617548",
     "status": "completed"
    },
    "tags": []
   },
   "outputs": [
    {
     "name": "stdout",
     "output_type": "stream",
     "text": [
      "              precision    recall  f1-score   support\n",
      "\n",
      "        Left       0.42      0.04      0.07      1326\n",
      "       Right       0.75      0.98      0.85      3909\n",
      "\n",
      "    accuracy                           0.74      5235\n",
      "   macro avg       0.59      0.51      0.46      5235\n",
      "weighted avg       0.67      0.74      0.65      5235\n",
      "\n"
     ]
    }
   ],
   "source": [
    "from sklearn.metrics import classification_report \n",
    "\n",
    "# Use the actual and predicted Y values to display the full classification report\n",
    "print(classification_report(Y_test, Y_pred))"
   ]
  },
  {
   "cell_type": "markdown",
   "id": "d1765a8d",
   "metadata": {
    "papermill": {
     "duration": 0.019231,
     "end_time": "2023-08-10T12:10:47.034121",
     "exception": false,
     "start_time": "2023-08-10T12:10:47.014890",
     "status": "completed"
    },
    "tags": []
   },
   "source": [
    "Although the model achieves an accuracy rate of 74.3%, the confusion matrix and classification report shows that the model struggles to correctly classify the players who prefer their left foot as the recall score is only 0.08. This indicates that the model is biased towards predicting that players prefer their right foot."
   ]
  },
  {
   "cell_type": "markdown",
   "id": "f0697882",
   "metadata": {
    "papermill": {
     "duration": 0.020026,
     "end_time": "2023-08-10T12:10:47.073752",
     "exception": false,
     "start_time": "2023-08-10T12:10:47.053726",
     "status": "completed"
    },
    "tags": []
   },
   "source": [
    "# **Clustering and Data Visualization**"
   ]
  },
  {
   "cell_type": "markdown",
   "id": "2a78590e",
   "metadata": {
    "papermill": {
     "duration": 0.021034,
     "end_time": "2023-08-10T12:10:47.115197",
     "exception": false,
     "start_time": "2023-08-10T12:10:47.094163",
     "status": "completed"
    },
    "tags": []
   },
   "source": [
    "We will examine natural clusters in our data using K-Means. As our X data, we’ll use the same 10 scaled features that we used for KNN."
   ]
  },
  {
   "cell_type": "code",
   "execution_count": 23,
   "id": "419ce202",
   "metadata": {
    "execution": {
     "iopub.execute_input": "2023-08-10T12:10:47.161037Z",
     "iopub.status.busy": "2023-08-10T12:10:47.160597Z",
     "iopub.status.idle": "2023-08-10T12:10:47.182857Z",
     "shell.execute_reply": "2023-08-10T12:10:47.181456Z"
    },
    "papermill": {
     "duration": 0.048497,
     "end_time": "2023-08-10T12:10:47.186483",
     "exception": false,
     "start_time": "2023-08-10T12:10:47.137986",
     "status": "completed"
    },
    "tags": []
   },
   "outputs": [
    {
     "data": {
      "text/html": [
       "<div>\n",
       "<style scoped>\n",
       "    .dataframe tbody tr th:only-of-type {\n",
       "        vertical-align: middle;\n",
       "    }\n",
       "\n",
       "    .dataframe tbody tr th {\n",
       "        vertical-align: top;\n",
       "    }\n",
       "\n",
       "    .dataframe thead th {\n",
       "        text-align: right;\n",
       "    }\n",
       "</style>\n",
       "<table border=\"1\" class=\"dataframe\">\n",
       "  <thead>\n",
       "    <tr style=\"text-align: right;\">\n",
       "      <th></th>\n",
       "      <th>shooting</th>\n",
       "      <th>passing</th>\n",
       "      <th>dribbling</th>\n",
       "      <th>defending</th>\n",
       "      <th>attacking</th>\n",
       "      <th>skill</th>\n",
       "      <th>movement</th>\n",
       "      <th>power</th>\n",
       "      <th>mentality</th>\n",
       "      <th>goalkeeping</th>\n",
       "    </tr>\n",
       "  </thead>\n",
       "  <tbody>\n",
       "    <tr>\n",
       "      <th>0</th>\n",
       "      <td>2.784312</td>\n",
       "      <td>3.296642</td>\n",
       "      <td>3.315358</td>\n",
       "      <td>-1.393049</td>\n",
       "      <td>3.400164</td>\n",
       "      <td>3.548580</td>\n",
       "      <td>2.774640</td>\n",
       "      <td>1.944282</td>\n",
       "      <td>2.180614</td>\n",
       "      <td>0.281676</td>\n",
       "    </tr>\n",
       "    <tr>\n",
       "      <th>1</th>\n",
       "      <td>0.597719</td>\n",
       "      <td>1.229719</td>\n",
       "      <td>1.876719</td>\n",
       "      <td>2.131667</td>\n",
       "      <td>1.593417</td>\n",
       "      <td>0.598209</td>\n",
       "      <td>2.072809</td>\n",
       "      <td>2.066501</td>\n",
       "      <td>1.623697</td>\n",
       "      <td>1.481100</td>\n",
       "    </tr>\n",
       "    <tr>\n",
       "      <th>2</th>\n",
       "      <td>2.854847</td>\n",
       "      <td>1.721843</td>\n",
       "      <td>2.596039</td>\n",
       "      <td>-1.468043</td>\n",
       "      <td>3.421673</td>\n",
       "      <td>2.156896</td>\n",
       "      <td>1.651710</td>\n",
       "      <td>2.702042</td>\n",
       "      <td>1.822596</td>\n",
       "      <td>3.480141</td>\n",
       "    </tr>\n",
       "    <tr>\n",
       "      <th>3</th>\n",
       "      <td>1.232536</td>\n",
       "      <td>0.442320</td>\n",
       "      <td>1.054640</td>\n",
       "      <td>2.262906</td>\n",
       "      <td>0.905132</td>\n",
       "      <td>1.117771</td>\n",
       "      <td>-0.290023</td>\n",
       "      <td>2.506491</td>\n",
       "      <td>2.140834</td>\n",
       "      <td>1.614369</td>\n",
       "    </tr>\n",
       "    <tr>\n",
       "      <th>4</th>\n",
       "      <td>2.784312</td>\n",
       "      <td>2.115543</td>\n",
       "      <td>2.390519</td>\n",
       "      <td>-1.074325</td>\n",
       "      <td>3.421673</td>\n",
       "      <td>2.379565</td>\n",
       "      <td>1.768682</td>\n",
       "      <td>2.799817</td>\n",
       "      <td>2.996099</td>\n",
       "      <td>-0.118132</td>\n",
       "    </tr>\n",
       "  </tbody>\n",
       "</table>\n",
       "</div>"
      ],
      "text/plain": [
       "   shooting   passing  dribbling  defending  attacking     skill  movement  \\\n",
       "0  2.784312  3.296642   3.315358  -1.393049   3.400164  3.548580  2.774640   \n",
       "1  0.597719  1.229719   1.876719   2.131667   1.593417  0.598209  2.072809   \n",
       "2  2.854847  1.721843   2.596039  -1.468043   3.421673  2.156896  1.651710   \n",
       "3  1.232536  0.442320   1.054640   2.262906   0.905132  1.117771 -0.290023   \n",
       "4  2.784312  2.115543   2.390519  -1.074325   3.421673  2.379565  1.768682   \n",
       "\n",
       "      power  mentality  goalkeeping  \n",
       "0  1.944282   2.180614     0.281676  \n",
       "1  2.066501   1.623697     1.481100  \n",
       "2  2.702042   1.822596     3.480141  \n",
       "3  2.506491   2.140834     1.614369  \n",
       "4  2.799817   2.996099    -0.118132  "
      ]
     },
     "execution_count": 23,
     "metadata": {},
     "output_type": "execute_result"
    }
   ],
   "source": [
    "# Create a DataFrame from the scaled input features (X_scaled) with specified column names\n",
    "X_scaled_df = pd.DataFrame(X_scaled, columns = [\"shooting\", \"passing\", \"dribbling\", \"defending\", \"attacking\", \"skill\", \"movement\", \"power\", \"mentality\", \"goalkeeping\"])\n",
    "# Display the first 5 rows of the scaled DataFrame\n",
    "X_scaled_df.head(5)"
   ]
  },
  {
   "cell_type": "code",
   "execution_count": 24,
   "id": "bda7d89f",
   "metadata": {
    "execution": {
     "iopub.execute_input": "2023-08-10T12:10:47.232454Z",
     "iopub.status.busy": "2023-08-10T12:10:47.231708Z",
     "iopub.status.idle": "2023-08-10T12:10:47.255051Z",
     "shell.execute_reply": "2023-08-10T12:10:47.253606Z"
    },
    "papermill": {
     "duration": 0.049561,
     "end_time": "2023-08-10T12:10:47.257913",
     "exception": false,
     "start_time": "2023-08-10T12:10:47.208352",
     "status": "completed"
    },
    "tags": []
   },
   "outputs": [
    {
     "data": {
      "text/html": [
       "<div>\n",
       "<style scoped>\n",
       "    .dataframe tbody tr th:only-of-type {\n",
       "        vertical-align: middle;\n",
       "    }\n",
       "\n",
       "    .dataframe tbody tr th {\n",
       "        vertical-align: top;\n",
       "    }\n",
       "\n",
       "    .dataframe thead th {\n",
       "        text-align: right;\n",
       "    }\n",
       "</style>\n",
       "<table border=\"1\" class=\"dataframe\">\n",
       "  <thead>\n",
       "    <tr style=\"text-align: right;\">\n",
       "      <th></th>\n",
       "      <th>shooting</th>\n",
       "      <th>passing</th>\n",
       "      <th>dribbling</th>\n",
       "      <th>defending</th>\n",
       "      <th>attacking</th>\n",
       "      <th>skill</th>\n",
       "      <th>movement</th>\n",
       "      <th>power</th>\n",
       "      <th>mentality</th>\n",
       "      <th>goalkeeping</th>\n",
       "    </tr>\n",
       "  </thead>\n",
       "  <tbody>\n",
       "    <tr>\n",
       "      <th>291</th>\n",
       "      <td>1.373606</td>\n",
       "      <td>2.115543</td>\n",
       "      <td>1.465680</td>\n",
       "      <td>1.550464</td>\n",
       "      <td>1.830015</td>\n",
       "      <td>1.748668</td>\n",
       "      <td>0.037498</td>\n",
       "      <td>1.944282</td>\n",
       "      <td>2.180614</td>\n",
       "      <td>0.948023</td>\n",
       "    </tr>\n",
       "    <tr>\n",
       "      <th>501</th>\n",
       "      <td>1.937889</td>\n",
       "      <td>0.934444</td>\n",
       "      <td>1.876719</td>\n",
       "      <td>-0.849343</td>\n",
       "      <td>1.959068</td>\n",
       "      <td>1.377552</td>\n",
       "      <td>2.049414</td>\n",
       "      <td>1.870951</td>\n",
       "      <td>1.404908</td>\n",
       "      <td>0.148406</td>\n",
       "    </tr>\n",
       "    <tr>\n",
       "      <th>8871</th>\n",
       "      <td>1.020930</td>\n",
       "      <td>-0.246654</td>\n",
       "      <td>-0.795038</td>\n",
       "      <td>-0.736852</td>\n",
       "      <td>1.120221</td>\n",
       "      <td>-0.979033</td>\n",
       "      <td>-1.576714</td>\n",
       "      <td>0.990972</td>\n",
       "      <td>0.310965</td>\n",
       "      <td>0.281676</td>\n",
       "    </tr>\n",
       "    <tr>\n",
       "      <th>12793</th>\n",
       "      <td>0.456648</td>\n",
       "      <td>-0.345079</td>\n",
       "      <td>0.129801</td>\n",
       "      <td>-1.580534</td>\n",
       "      <td>0.173830</td>\n",
       "      <td>-0.552250</td>\n",
       "      <td>1.090245</td>\n",
       "      <td>1.039860</td>\n",
       "      <td>-0.703419</td>\n",
       "      <td>-1.051018</td>\n",
       "    </tr>\n",
       "    <tr>\n",
       "      <th>7256</th>\n",
       "      <td>-1.377269</td>\n",
       "      <td>-0.541929</td>\n",
       "      <td>-1.206077</td>\n",
       "      <td>0.763027</td>\n",
       "      <td>-0.600490</td>\n",
       "      <td>-1.591375</td>\n",
       "      <td>-0.430389</td>\n",
       "      <td>0.013218</td>\n",
       "      <td>-0.206172</td>\n",
       "      <td>0.814753</td>\n",
       "    </tr>\n",
       "  </tbody>\n",
       "</table>\n",
       "</div>"
      ],
      "text/plain": [
       "       shooting   passing  dribbling  defending  attacking     skill  \\\n",
       "291    1.373606  2.115543   1.465680   1.550464   1.830015  1.748668   \n",
       "501    1.937889  0.934444   1.876719  -0.849343   1.959068  1.377552   \n",
       "8871   1.020930 -0.246654  -0.795038  -0.736852   1.120221 -0.979033   \n",
       "12793  0.456648 -0.345079   0.129801  -1.580534   0.173830 -0.552250   \n",
       "7256  -1.377269 -0.541929  -1.206077   0.763027  -0.600490 -1.591375   \n",
       "\n",
       "       movement     power  mentality  goalkeeping  \n",
       "291    0.037498  1.944282   2.180614     0.948023  \n",
       "501    2.049414  1.870951   1.404908     0.148406  \n",
       "8871  -1.576714  0.990972   0.310965     0.281676  \n",
       "12793  1.090245  1.039860  -0.703419    -1.051018  \n",
       "7256  -0.430389  0.013218  -0.206172     0.814753  "
      ]
     },
     "execution_count": 24,
     "metadata": {},
     "output_type": "execute_result"
    }
   ],
   "source": [
    "# Randomly sample the rows of this dataframe using panda’s .sample() function\n",
    "\n",
    "# Set the random state to 2022\n",
    "random_seed = 2022\n",
    "# Select n = 5000 rows and and save the sampled rows as a new dataframe\n",
    "X_scaled_sampled = X_scaled_df.sample(n = 5000, random_state = random_seed)\n",
    "\n",
    "# Display the first 5 rows\n",
    "X_scaled_sampled.head(5)"
   ]
  },
  {
   "cell_type": "markdown",
   "id": "a3535179",
   "metadata": {
    "papermill": {
     "duration": 0.023063,
     "end_time": "2023-08-10T12:10:47.301340",
     "exception": false,
     "start_time": "2023-08-10T12:10:47.278277",
     "status": "completed"
    },
    "tags": []
   },
   "source": [
    "Now we will calculate and save the error (inertia) and the silhouette score for possible values\n",
    "of k between 2 and 20 (inclusive). Set the random state to 789 for every value of k\n",
    "considered. Display the resulting list of error values."
   ]
  },
  {
   "cell_type": "code",
   "execution_count": 25,
   "id": "58a43fe8",
   "metadata": {
    "execution": {
     "iopub.execute_input": "2023-08-10T12:10:47.345560Z",
     "iopub.status.busy": "2023-08-10T12:10:47.344610Z",
     "iopub.status.idle": "2023-08-10T12:11:23.076266Z",
     "shell.execute_reply": "2023-08-10T12:11:23.074955Z"
    },
    "papermill": {
     "duration": 35.757223,
     "end_time": "2023-08-10T12:11:23.079261",
     "exception": false,
     "start_time": "2023-08-10T12:10:47.322038",
     "status": "completed"
    },
    "tags": []
   },
   "outputs": [
    {
     "name": "stderr",
     "output_type": "stream",
     "text": [
      "/opt/conda/lib/python3.10/site-packages/sklearn/cluster/_kmeans.py:870: FutureWarning: The default value of `n_init` will change from 10 to 'auto' in 1.4. Set the value of `n_init` explicitly to suppress the warning\n",
      "  warnings.warn(\n",
      "/opt/conda/lib/python3.10/site-packages/sklearn/cluster/_kmeans.py:870: FutureWarning: The default value of `n_init` will change from 10 to 'auto' in 1.4. Set the value of `n_init` explicitly to suppress the warning\n",
      "  warnings.warn(\n",
      "/opt/conda/lib/python3.10/site-packages/sklearn/cluster/_kmeans.py:870: FutureWarning: The default value of `n_init` will change from 10 to 'auto' in 1.4. Set the value of `n_init` explicitly to suppress the warning\n",
      "  warnings.warn(\n",
      "/opt/conda/lib/python3.10/site-packages/sklearn/cluster/_kmeans.py:870: FutureWarning: The default value of `n_init` will change from 10 to 'auto' in 1.4. Set the value of `n_init` explicitly to suppress the warning\n",
      "  warnings.warn(\n",
      "/opt/conda/lib/python3.10/site-packages/sklearn/cluster/_kmeans.py:870: FutureWarning: The default value of `n_init` will change from 10 to 'auto' in 1.4. Set the value of `n_init` explicitly to suppress the warning\n",
      "  warnings.warn(\n",
      "/opt/conda/lib/python3.10/site-packages/sklearn/cluster/_kmeans.py:870: FutureWarning: The default value of `n_init` will change from 10 to 'auto' in 1.4. Set the value of `n_init` explicitly to suppress the warning\n",
      "  warnings.warn(\n",
      "/opt/conda/lib/python3.10/site-packages/sklearn/cluster/_kmeans.py:870: FutureWarning: The default value of `n_init` will change from 10 to 'auto' in 1.4. Set the value of `n_init` explicitly to suppress the warning\n",
      "  warnings.warn(\n",
      "/opt/conda/lib/python3.10/site-packages/sklearn/cluster/_kmeans.py:870: FutureWarning: The default value of `n_init` will change from 10 to 'auto' in 1.4. Set the value of `n_init` explicitly to suppress the warning\n",
      "  warnings.warn(\n",
      "/opt/conda/lib/python3.10/site-packages/sklearn/cluster/_kmeans.py:870: FutureWarning: The default value of `n_init` will change from 10 to 'auto' in 1.4. Set the value of `n_init` explicitly to suppress the warning\n",
      "  warnings.warn(\n",
      "/opt/conda/lib/python3.10/site-packages/sklearn/cluster/_kmeans.py:870: FutureWarning: The default value of `n_init` will change from 10 to 'auto' in 1.4. Set the value of `n_init` explicitly to suppress the warning\n",
      "  warnings.warn(\n",
      "/opt/conda/lib/python3.10/site-packages/sklearn/cluster/_kmeans.py:870: FutureWarning: The default value of `n_init` will change from 10 to 'auto' in 1.4. Set the value of `n_init` explicitly to suppress the warning\n",
      "  warnings.warn(\n",
      "/opt/conda/lib/python3.10/site-packages/sklearn/cluster/_kmeans.py:870: FutureWarning: The default value of `n_init` will change from 10 to 'auto' in 1.4. Set the value of `n_init` explicitly to suppress the warning\n",
      "  warnings.warn(\n",
      "/opt/conda/lib/python3.10/site-packages/sklearn/cluster/_kmeans.py:870: FutureWarning: The default value of `n_init` will change from 10 to 'auto' in 1.4. Set the value of `n_init` explicitly to suppress the warning\n",
      "  warnings.warn(\n",
      "/opt/conda/lib/python3.10/site-packages/sklearn/cluster/_kmeans.py:870: FutureWarning: The default value of `n_init` will change from 10 to 'auto' in 1.4. Set the value of `n_init` explicitly to suppress the warning\n",
      "  warnings.warn(\n",
      "/opt/conda/lib/python3.10/site-packages/sklearn/cluster/_kmeans.py:870: FutureWarning: The default value of `n_init` will change from 10 to 'auto' in 1.4. Set the value of `n_init` explicitly to suppress the warning\n",
      "  warnings.warn(\n",
      "/opt/conda/lib/python3.10/site-packages/sklearn/cluster/_kmeans.py:870: FutureWarning: The default value of `n_init` will change from 10 to 'auto' in 1.4. Set the value of `n_init` explicitly to suppress the warning\n",
      "  warnings.warn(\n",
      "/opt/conda/lib/python3.10/site-packages/sklearn/cluster/_kmeans.py:870: FutureWarning: The default value of `n_init` will change from 10 to 'auto' in 1.4. Set the value of `n_init` explicitly to suppress the warning\n",
      "  warnings.warn(\n",
      "/opt/conda/lib/python3.10/site-packages/sklearn/cluster/_kmeans.py:870: FutureWarning: The default value of `n_init` will change from 10 to 'auto' in 1.4. Set the value of `n_init` explicitly to suppress the warning\n",
      "  warnings.warn(\n",
      "/opt/conda/lib/python3.10/site-packages/sklearn/cluster/_kmeans.py:870: FutureWarning: The default value of `n_init` will change from 10 to 'auto' in 1.4. Set the value of `n_init` explicitly to suppress the warning\n",
      "  warnings.warn(\n"
     ]
    },
    {
     "name": "stdout",
     "output_type": "stream",
     "text": [
      "Errors: [30847.126857997682, 25514.42006882392, 22325.85144853488, 20446.24365068816, 18800.168357172748, 17815.288514931934, 16970.312084645928, 16225.337089528173, 15539.29462985927, 14934.889268654111, 14481.297520106666, 14059.125523493985, 13702.000315307087, 13367.06111184728, 13033.397362367052, 12729.130487494667, 12471.523884445009, 12271.496802650796, 12047.002900983995]\n"
     ]
    }
   ],
   "source": [
    "from sklearn.cluster import KMeans\n",
    "from sklearn.metrics import silhouette_score\n",
    "\n",
    "# Create empty lists to store error and silhouette values for different k values\n",
    "error = []\n",
    "silhouette = []\n",
    "\n",
    "for k in range(2, 21):\n",
    "    \n",
    "    # Create a KMeans instance with k clusters and a specified random state\n",
    "    kmeans = KMeans(n_clusters = k, random_state = 789) \n",
    "    \n",
    "    # Fit the KMeans model to the scaled and sampled input features\n",
    "    kmeans.fit(X_scaled_sampled)\n",
    "    \n",
    "    # Append the inertia (error) value to the error list\n",
    "    error.append(kmeans.inertia_) \n",
    "    \n",
    "    # Calculate the silhouette score for the current clustering and append it to the silhouette list\n",
    "    silhouette.append(silhouette_score(X_scaled_sampled, kmeans.labels_))\n",
    "\n",
    "# Print the error values for different k values\n",
    "print(\"Errors:\", error)"
   ]
  },
  {
   "cell_type": "markdown",
   "id": "8f3a7dc7",
   "metadata": {
    "papermill": {
     "duration": 0.021663,
     "end_time": "2023-08-10T12:11:23.122915",
     "exception": false,
     "start_time": "2023-08-10T12:11:23.101252",
     "status": "completed"
    },
    "tags": []
   },
   "source": [
    "Now we will plot the error (inertia) for each value of k."
   ]
  },
  {
   "cell_type": "code",
   "execution_count": 26,
   "id": "d04ee5f4",
   "metadata": {
    "execution": {
     "iopub.execute_input": "2023-08-10T12:11:23.169298Z",
     "iopub.status.busy": "2023-08-10T12:11:23.168365Z",
     "iopub.status.idle": "2023-08-10T12:11:23.468368Z",
     "shell.execute_reply": "2023-08-10T12:11:23.466937Z"
    },
    "papermill": {
     "duration": 0.326864,
     "end_time": "2023-08-10T12:11:23.471674",
     "exception": false,
     "start_time": "2023-08-10T12:11:23.144810",
     "status": "completed"
    },
    "tags": []
   },
   "outputs": [
    {
     "data": {
      "image/png": "[encoded data removed]",
      "text/plain": [
       "<Figure size 1000x600 with 1 Axes>"
      ]
     },
     "metadata": {},
     "output_type": "display_data"
    }
   ],
   "source": [
    "import matplotlib.pyplot as plt\n",
    "\n",
    "plt.figure(figsize = (10, 6))\n",
    "plt.plot(range(2, 21), error, marker = 'o')\n",
    "plt.title('Errors for Each Value of K')\n",
    "plt.xlabel('Number of Clusters (k)')\n",
    "plt.ylabel('Errors')\n",
    "plt.show()"
   ]
  },
  {
   "cell_type": "markdown",
   "id": "1071b992",
   "metadata": {
    "papermill": {
     "duration": 0.023212,
     "end_time": "2023-08-10T12:11:23.518554",
     "exception": false,
     "start_time": "2023-08-10T12:11:23.495342",
     "status": "completed"
    },
    "tags": []
   },
   "source": [
    "We will use the kneed package to estimate the bend or “elbow” in the curve and display the suggested elbow value."
   ]
  },
  {
   "cell_type": "markdown",
   "id": "e27faffd",
   "metadata": {
    "papermill": {
     "duration": 0.022459,
     "end_time": "2023-08-10T12:11:23.563574",
     "exception": false,
     "start_time": "2023-08-10T12:11:23.541115",
     "status": "completed"
    },
    "tags": []
   },
   "source": [
    "We will plot the Silhouette Score for each value of k."
   ]
  },
  {
   "cell_type": "code",
   "execution_count": 27,
   "id": "14dbb5c4",
   "metadata": {
    "execution": {
     "iopub.execute_input": "2023-08-10T12:11:23.611475Z",
     "iopub.status.busy": "2023-08-10T12:11:23.610991Z",
     "iopub.status.idle": "2023-08-10T12:11:23.950776Z",
     "shell.execute_reply": "2023-08-10T12:11:23.949580Z"
    },
    "papermill": {
     "duration": 0.36727,
     "end_time": "2023-08-10T12:11:23.953529",
     "exception": false,
     "start_time": "2023-08-10T12:11:23.586259",
     "status": "completed"
    },
    "tags": []
   },
   "outputs": [
    {
     "data": {
      "image/png": "[encoded data removed]",
      "text/plain": [
       "<Figure size 640x480 with 1 Axes>"
      ]
     },
     "metadata": {},
     "output_type": "display_data"
    }
   ],
   "source": [
    "plt.plot(np.arange(2, 21), silhouette)\n",
    "plt.title('Silhouette Scores for Each Value of K')\n",
    "plt.xlabel('Number of Clusters (k)')\n",
    "plt.ylabel('Silhouette Score')\n",
    "plt.show()"
   ]
  },
  {
   "cell_type": "code",
   "execution_count": 28,
   "id": "5e3f5b2f",
   "metadata": {
    "execution": {
     "iopub.execute_input": "2023-08-10T12:11:24.004277Z",
     "iopub.status.busy": "2023-08-10T12:11:24.003785Z",
     "iopub.status.idle": "2023-08-10T12:11:25.468406Z",
     "shell.execute_reply": "2023-08-10T12:11:25.467432Z"
    },
    "papermill": {
     "duration": 1.493058,
     "end_time": "2023-08-10T12:11:25.470977",
     "exception": false,
     "start_time": "2023-08-10T12:11:23.977919",
     "status": "completed"
    },
    "tags": []
   },
   "outputs": [
    {
     "name": "stderr",
     "output_type": "stream",
     "text": [
      "/opt/conda/lib/python3.10/site-packages/sklearn/cluster/_kmeans.py:870: FutureWarning: The default value of `n_init` will change from 10 to 'auto' in 1.4. Set the value of `n_init` explicitly to suppress the warning\n",
      "  warnings.warn(\n"
     ]
    },
    {
     "data": {
      "text/html": [
       "<div>\n",
       "<style scoped>\n",
       "    .dataframe tbody tr th:only-of-type {\n",
       "        vertical-align: middle;\n",
       "    }\n",
       "\n",
       "    .dataframe tbody tr th {\n",
       "        vertical-align: top;\n",
       "    }\n",
       "\n",
       "    .dataframe thead th {\n",
       "        text-align: right;\n",
       "    }\n",
       "</style>\n",
       "<table border=\"1\" class=\"dataframe\">\n",
       "  <thead>\n",
       "    <tr style=\"text-align: right;\">\n",
       "      <th></th>\n",
       "      <th>shooting</th>\n",
       "      <th>passing</th>\n",
       "      <th>dribbling</th>\n",
       "      <th>defending</th>\n",
       "      <th>attacking</th>\n",
       "      <th>skill</th>\n",
       "      <th>movement</th>\n",
       "      <th>power</th>\n",
       "      <th>mentality</th>\n",
       "      <th>goalkeeping</th>\n",
       "      <th>cluster_label</th>\n",
       "    </tr>\n",
       "  </thead>\n",
       "  <tbody>\n",
       "    <tr>\n",
       "      <th>291</th>\n",
       "      <td>1.373606</td>\n",
       "      <td>2.115543</td>\n",
       "      <td>1.465680</td>\n",
       "      <td>1.550464</td>\n",
       "      <td>1.830015</td>\n",
       "      <td>1.748668</td>\n",
       "      <td>0.037498</td>\n",
       "      <td>1.944282</td>\n",
       "      <td>2.180614</td>\n",
       "      <td>0.948023</td>\n",
       "      <td>4</td>\n",
       "    </tr>\n",
       "    <tr>\n",
       "      <th>501</th>\n",
       "      <td>1.937889</td>\n",
       "      <td>0.934444</td>\n",
       "      <td>1.876719</td>\n",
       "      <td>-0.849343</td>\n",
       "      <td>1.959068</td>\n",
       "      <td>1.377552</td>\n",
       "      <td>2.049414</td>\n",
       "      <td>1.870951</td>\n",
       "      <td>1.404908</td>\n",
       "      <td>0.148406</td>\n",
       "      <td>4</td>\n",
       "    </tr>\n",
       "    <tr>\n",
       "      <th>8871</th>\n",
       "      <td>1.020930</td>\n",
       "      <td>-0.246654</td>\n",
       "      <td>-0.795038</td>\n",
       "      <td>-0.736852</td>\n",
       "      <td>1.120221</td>\n",
       "      <td>-0.979033</td>\n",
       "      <td>-1.576714</td>\n",
       "      <td>0.990972</td>\n",
       "      <td>0.310965</td>\n",
       "      <td>0.281676</td>\n",
       "      <td>0</td>\n",
       "    </tr>\n",
       "    <tr>\n",
       "      <th>12793</th>\n",
       "      <td>0.456648</td>\n",
       "      <td>-0.345079</td>\n",
       "      <td>0.129801</td>\n",
       "      <td>-1.580534</td>\n",
       "      <td>0.173830</td>\n",
       "      <td>-0.552250</td>\n",
       "      <td>1.090245</td>\n",
       "      <td>1.039860</td>\n",
       "      <td>-0.703419</td>\n",
       "      <td>-1.051018</td>\n",
       "      <td>2</td>\n",
       "    </tr>\n",
       "    <tr>\n",
       "      <th>7256</th>\n",
       "      <td>-1.377269</td>\n",
       "      <td>-0.541929</td>\n",
       "      <td>-1.206077</td>\n",
       "      <td>0.763027</td>\n",
       "      <td>-0.600490</td>\n",
       "      <td>-1.591375</td>\n",
       "      <td>-0.430389</td>\n",
       "      <td>0.013218</td>\n",
       "      <td>-0.206172</td>\n",
       "      <td>0.814753</td>\n",
       "      <td>3</td>\n",
       "    </tr>\n",
       "  </tbody>\n",
       "</table>\n",
       "</div>"
      ],
      "text/plain": [
       "       shooting   passing  dribbling  defending  attacking     skill  \\\n",
       "291    1.373606  2.115543   1.465680   1.550464   1.830015  1.748668   \n",
       "501    1.937889  0.934444   1.876719  -0.849343   1.959068  1.377552   \n",
       "8871   1.020930 -0.246654  -0.795038  -0.736852   1.120221 -0.979033   \n",
       "12793  0.456648 -0.345079   0.129801  -1.580534   0.173830 -0.552250   \n",
       "7256  -1.377269 -0.541929  -1.206077   0.763027  -0.600490 -1.591375   \n",
       "\n",
       "       movement     power  mentality  goalkeeping  cluster_label  \n",
       "291    0.037498  1.944282   2.180614     0.948023              4  \n",
       "501    2.049414  1.870951   1.404908     0.148406              4  \n",
       "8871  -1.576714  0.990972   0.310965     0.281676              0  \n",
       "12793  1.090245  1.039860  -0.703419    -1.051018              2  \n",
       "7256  -0.430389  0.013218  -0.206172     0.814753              3  "
      ]
     },
     "execution_count": 28,
     "metadata": {},
     "output_type": "execute_result"
    }
   ],
   "source": [
    "# Create a KMeans instance with 6 clusters and set a random state for reproducibility\n",
    "kmeans = KMeans(n_clusters = 6, random_state = 789)\n",
    "# Fit the KMeans model to the scaled and sampled data (X_scaled_sampled)\n",
    "kmeans.fit(X_scaled_sampled)\n",
    "\n",
    "# Assign cluster labels to each data point in X_scaled_sampled\n",
    "X_scaled_sampled['cluster_label'] = kmeans.labels_\n",
    "\n",
    "# Display the first 5 rows of the DataFrame with cluster labels\n",
    "X_scaled_sampled.head(5)"
   ]
  },
  {
   "cell_type": "markdown",
   "id": "59f9f4a2",
   "metadata": {
    "papermill": {
     "duration": 0.026195,
     "end_time": "2023-08-10T12:11:25.521300",
     "exception": false,
     "start_time": "2023-08-10T12:11:25.495105",
     "status": "completed"
    },
    "tags": []
   },
   "source": [
    "This demonstrates the use of the KMeans clustering algorithm to group data points into 6 clusters. The `fit` method is applied to the scaled and sampled data, and the resulting cluster labels are added as a new column to the DataFrame. The last line displays the first 5 rows of the DataFrame, showing the original data along with their assigned cluster labels."
   ]
  },
  {
   "cell_type": "markdown",
   "id": "da32704e",
   "metadata": {
    "papermill": {
     "duration": 0.024983,
     "end_time": "2023-08-10T12:11:25.572334",
     "exception": false,
     "start_time": "2023-08-10T12:11:25.547351",
     "status": "completed"
    },
    "tags": []
   },
   "source": [
    "Now we will create and display a plot which shows a player’s attacking score on the horizontal\n",
    "axis and their defending score on the vertical axis, and color each observation based on its\n",
    "assigned cluster."
   ]
  },
  {
   "cell_type": "code",
   "execution_count": 29,
   "id": "4bbdf6f0",
   "metadata": {
    "execution": {
     "iopub.execute_input": "2023-08-10T12:11:25.624429Z",
     "iopub.status.busy": "2023-08-10T12:11:25.623612Z",
     "iopub.status.idle": "2023-08-10T12:11:26.058284Z",
     "shell.execute_reply": "2023-08-10T12:11:26.056962Z"
    },
    "papermill": {
     "duration": 0.464085,
     "end_time": "2023-08-10T12:11:26.061633",
     "exception": false,
     "start_time": "2023-08-10T12:11:25.597548",
     "status": "completed"
    },
    "tags": []
   },
   "outputs": [
    {
     "data": {
      "image/png": "[encoded data removed]",
      "text/plain": [
       "<Figure size 640x480 with 1 Axes>"
      ]
     },
     "metadata": {},
     "output_type": "display_data"
    }
   ],
   "source": [
    "plt.scatter(X_scaled_sampled['attacking'], X_scaled_sampled['defending'], c = X_scaled_sampled['cluster_label'])\n",
    "plt.title('Player Skills by Cluster')\n",
    "plt.xlabel('Attacking Score')\n",
    "plt.ylabel('Defending Score')\n",
    "plt.show()"
   ]
  }
 ],
 "metadata": {
  "kernelspec": {
   "display_name": "Python 3",
   "language": "python",
   "name": "python3"
  },
  "language_info": {
   "codemirror_mode": {
    "name": "ipython",
    "version": 3
   },
   "file_extension": ".py",
   "mimetype": "text/x-python",
   "name": "python",
   "nbconvert_exporter": "python",
   "pygments_lexer": "ipython3",
   "version": "3.10.12"
  },
  "papermill": {
   "default_parameters": {},
   "duration": 81.396408,
   "end_time": "2023-08-10T12:11:27.314180",
   "environment_variables": {},
   "exception": null,
   "input_path": "__notebook__.ipynb",
   "output_path": "__notebook__.ipynb",
   "parameters": {},
   "start_time": "2023-08-10T12:10:05.917772",
   "version": "2.4.0"
  }
 },
 "nbformat": 4,
 "nbformat_minor": 5
}
